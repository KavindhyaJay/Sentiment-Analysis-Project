{
 "cells": [
  {
   "cell_type": "code",
   "execution_count": 147,
   "id": "f81a9212-39d3-449f-b6cb-39042b392aca",
   "metadata": {},
   "outputs": [],
   "source": [
    "import numpy as np\n",
    "import pandas as pd\n",
    "import matplotlib.pyplot as plt "
   ]
  },
  {
   "cell_type": "code",
   "execution_count": 148,
   "id": "5b756721-735d-4eb3-99a2-4d58ef01f3f7",
   "metadata": {},
   "outputs": [],
   "source": [
    "data = pd.read_csv('../artifacts/sentiment_analysis.csv')"
   ]
  },
  {
   "cell_type": "code",
   "execution_count": 149,
   "id": "80b7df3f-67c2-47af-bc81-02cfbaa725e9",
   "metadata": {},
   "outputs": [
    {
     "data": {
      "text/html": [
       "<div>\n",
       "<style scoped>\n",
       "    .dataframe tbody tr th:only-of-type {\n",
       "        vertical-align: middle;\n",
       "    }\n",
       "\n",
       "    .dataframe tbody tr th {\n",
       "        vertical-align: top;\n",
       "    }\n",
       "\n",
       "    .dataframe thead th {\n",
       "        text-align: right;\n",
       "    }\n",
       "</style>\n",
       "<table border=\"1\" class=\"dataframe\">\n",
       "  <thead>\n",
       "    <tr style=\"text-align: right;\">\n",
       "      <th></th>\n",
       "      <th>id</th>\n",
       "      <th>label</th>\n",
       "      <th>tweet</th>\n",
       "    </tr>\n",
       "  </thead>\n",
       "  <tbody>\n",
       "    <tr>\n",
       "      <th>0</th>\n",
       "      <td>1</td>\n",
       "      <td>0</td>\n",
       "      <td>#fingerprint #Pregnancy Test https://goo.gl/h1...</td>\n",
       "    </tr>\n",
       "    <tr>\n",
       "      <th>1</th>\n",
       "      <td>2</td>\n",
       "      <td>0</td>\n",
       "      <td>Finally a transparant silicon case ^^ Thanks t...</td>\n",
       "    </tr>\n",
       "    <tr>\n",
       "      <th>2</th>\n",
       "      <td>3</td>\n",
       "      <td>0</td>\n",
       "      <td>We love this! Would you go? #talk #makememorie...</td>\n",
       "    </tr>\n",
       "    <tr>\n",
       "      <th>3</th>\n",
       "      <td>4</td>\n",
       "      <td>0</td>\n",
       "      <td>I'm wired I know I'm George I was made that wa...</td>\n",
       "    </tr>\n",
       "    <tr>\n",
       "      <th>4</th>\n",
       "      <td>5</td>\n",
       "      <td>1</td>\n",
       "      <td>What amazing service! Apple won't even talk to...</td>\n",
       "    </tr>\n",
       "  </tbody>\n",
       "</table>\n",
       "</div>"
      ],
      "text/plain": [
       "   id  label                                              tweet\n",
       "0   1      0  #fingerprint #Pregnancy Test https://goo.gl/h1...\n",
       "1   2      0  Finally a transparant silicon case ^^ Thanks t...\n",
       "2   3      0  We love this! Would you go? #talk #makememorie...\n",
       "3   4      0  I'm wired I know I'm George I was made that wa...\n",
       "4   5      1  What amazing service! Apple won't even talk to..."
      ]
     },
     "execution_count": 149,
     "metadata": {},
     "output_type": "execute_result"
    }
   ],
   "source": [
    "data.head()"
   ]
  },
  {
   "cell_type": "markdown",
   "id": "a461ccd3-fe65-4260-99bf-e34cc24987fe",
   "metadata": {},
   "source": [
    "## Data Preprocessing"
   ]
  },
  {
   "cell_type": "code",
   "execution_count": 150,
   "id": "313601ad-413e-4004-ade2-cc9ff3559727",
   "metadata": {},
   "outputs": [
    {
     "data": {
      "text/plain": [
       "(7920, 3)"
      ]
     },
     "execution_count": 150,
     "metadata": {},
     "output_type": "execute_result"
    }
   ],
   "source": [
    "data.shape\n"
   ]
  },
  {
   "cell_type": "code",
   "execution_count": 151,
   "id": "2b55af7a-db3a-4c23-bf8d-e2f5753bfe16",
   "metadata": {},
   "outputs": [
    {
     "data": {
      "text/plain": [
       "np.int64(0)"
      ]
     },
     "execution_count": 151,
     "metadata": {},
     "output_type": "execute_result"
    }
   ],
   "source": [
    "data.duplicated().sum()"
   ]
  },
  {
   "cell_type": "code",
   "execution_count": 152,
   "id": "e0ea8611-65d8-4536-85f8-6116c34b5e02",
   "metadata": {},
   "outputs": [
    {
     "data": {
      "text/plain": [
       "id       0\n",
       "label    0\n",
       "tweet    0\n",
       "dtype: int64"
      ]
     },
     "execution_count": 152,
     "metadata": {},
     "output_type": "execute_result"
    }
   ],
   "source": [
    "data.isnull().sum()"
   ]
  },
  {
   "cell_type": "markdown",
   "id": "c8c090bb-eb3c-45ed-ba28-3c39a143fd33",
   "metadata": {},
   "source": [
    "## Text Preprocessing"
   ]
  },
  {
   "cell_type": "code",
   "execution_count": 153,
   "id": "3a7f2b31-2177-410f-a117-3b260015cd01",
   "metadata": {},
   "outputs": [],
   "source": [
    "import re\n",
    "import string"
   ]
  },
  {
   "cell_type": "code",
   "execution_count": 154,
   "id": "0a314422-bd99-4b99-b5d2-fa9925ab3b80",
   "metadata": {},
   "outputs": [
    {
     "data": {
      "text/plain": [
       "0    #fingerprint #Pregnancy Test https://goo.gl/h1...\n",
       "1    Finally a transparant silicon case ^^ Thanks t...\n",
       "2    We love this! Would you go? #talk #makememorie...\n",
       "3    I'm wired I know I'm George I was made that wa...\n",
       "4    What amazing service! Apple won't even talk to...\n",
       "Name: tweet, dtype: object"
      ]
     },
     "execution_count": 154,
     "metadata": {},
     "output_type": "execute_result"
    }
   ],
   "source": [
    "data[\"tweet\"].head(5)"
   ]
  },
  {
   "cell_type": "markdown",
   "id": "00987e42-e386-417c-8b1d-a024a1a5b0c0",
   "metadata": {},
   "source": [
    "Convert UpperCase to LowerCase"
   ]
  },
  {
   "cell_type": "code",
   "execution_count": 155,
   "id": "e4c8b6ff-5a5a-4867-abc8-3033f6b6e854",
   "metadata": {},
   "outputs": [],
   "source": [
    " data[\"tweet\"] = data[\"tweet\"].apply(lambda x: \"  \".join(x.lower() for x in x.split()))"
   ]
  },
  {
   "cell_type": "code",
   "execution_count": 156,
   "id": "8089f7c7-1635-45e1-94d1-e45eab8cc6fb",
   "metadata": {},
   "outputs": [
    {
     "data": {
      "text/plain": [
       "0    #fingerprint  #pregnancy  test  https://goo.gl...\n",
       "1    finally  a  transparant  silicon  case  ^^  th...\n",
       "2    we  love  this!  would  you  go?  #talk  #make...\n",
       "3    i'm  wired  i  know  i'm  george  i  was  made...\n",
       "4    what  amazing  service!  apple  won't  even  t...\n",
       "Name: tweet, dtype: object"
      ]
     },
     "execution_count": 156,
     "metadata": {},
     "output_type": "execute_result"
    }
   ],
   "source": [
    "data[\"tweet\"].head(5)"
   ]
  },
  {
   "cell_type": "markdown",
   "id": "7dbf1129-b9f4-47f1-b3a5-a67c587a8ff0",
   "metadata": {},
   "source": [
    "Remove Links"
   ]
  },
  {
   "cell_type": "code",
   "execution_count": 157,
   "id": "a607790d-7419-411c-a6af-b6f4feaa6363",
   "metadata": {},
   "outputs": [],
   "source": [
    "data[\"tweet\"] = data[\"tweet\"].apply(lambda x: re.sub(r'http\\S+|www\\.\\S+', '', x).strip())"
   ]
  },
  {
   "cell_type": "code",
   "execution_count": 158,
   "id": "49ea1261-24cb-4158-89ab-a9735a1d5c8f",
   "metadata": {},
   "outputs": [
    {
     "data": {
      "text/plain": [
       "0    #fingerprint  #pregnancy  test    #android  #a...\n",
       "1    finally  a  transparant  silicon  case  ^^  th...\n",
       "2    we  love  this!  would  you  go?  #talk  #make...\n",
       "3    i'm  wired  i  know  i'm  george  i  was  made...\n",
       "4    what  amazing  service!  apple  won't  even  t...\n",
       "Name: tweet, dtype: object"
      ]
     },
     "execution_count": 158,
     "metadata": {},
     "output_type": "execute_result"
    }
   ],
   "source": [
    "data[\"tweet\"].head(5)"
   ]
  },
  {
   "cell_type": "markdown",
   "id": "b5a199ef-242f-4b5e-9469-1c113ae53b3f",
   "metadata": {},
   "source": [
    "Remove Punctuation"
   ]
  },
  {
   "cell_type": "code",
   "execution_count": 159,
   "id": "4e6774a3-bb29-4513-909f-c0e1569d4d31",
   "metadata": {},
   "outputs": [
    {
     "data": {
      "text/plain": [
       "'!\"#$%&\\'()*+,-./:;<=>?@[\\\\]^_`{|}~'"
      ]
     },
     "execution_count": 159,
     "metadata": {},
     "output_type": "execute_result"
    }
   ],
   "source": [
    "string.punctuation"
   ]
  },
  {
   "cell_type": "code",
   "execution_count": 160,
   "id": "df70d66b-a45e-4ab2-930b-68805d64c31b",
   "metadata": {},
   "outputs": [],
   "source": [
    "def remove_punctuation(text):\n",
    "    for punctuation in string.punctuation:\n",
    "        text = text.replace(punctuation, ' ')\n",
    "    return text\n",
    "data[\"tweet\"] = data[\"tweet\"].apply(remove_punctuation)\n",
    "    "
   ]
  },
  {
   "cell_type": "code",
   "execution_count": 161,
   "id": "f2ed952c-5550-49f8-9fcf-a266bb5c1f4e",
   "metadata": {},
   "outputs": [
    {
     "data": {
      "text/plain": [
       "7910    perfect  match   instagood   applewatch   red ...\n",
       "7911    i  am  completely  in  love  with  the  new  i...\n",
       "7912    tune  in   turn  on   drop  out       gtd  in ...\n",
       "7913    ok  so  my  galaxy  crashed  after  one  day  ...\n",
       "7914    gain  followers  rt  this  must  follow  me  i...\n",
       "7915    live  out  loud   lol   liveoutloud   selfie  ...\n",
       "7916    we  would  like  to  wish  you  an  amazing  d...\n",
       "7917    helping  my  lovely  90  year  old  neighbor  ...\n",
       "7918    finally  got  my   smart   pocket   wifi  stay...\n",
       "7919    apple  barcelona      apple   store   bcn   ba...\n",
       "Name: tweet, dtype: object"
      ]
     },
     "execution_count": 161,
     "metadata": {},
     "output_type": "execute_result"
    }
   ],
   "source": [
    "data[\"tweet\"].tail(10)"
   ]
  },
  {
   "cell_type": "markdown",
   "id": "320b0e30-bd4f-42a1-82c1-52631db33911",
   "metadata": {},
   "source": [
    "Remove Numbers"
   ]
  },
  {
   "cell_type": "code",
   "execution_count": 162,
   "id": "f507ed6c-a52c-41fd-8ec9-3d95aa477294",
   "metadata": {},
   "outputs": [],
   "source": [
    " data[\"tweet\"] = data[\"tweet\"].str.replace(r'\\d+' , '', regex=True)"
   ]
  },
  {
   "cell_type": "code",
   "execution_count": 163,
   "id": "c6140754-fce1-4838-a38d-7cf0f0a2ef6c",
   "metadata": {},
   "outputs": [
    {
     "data": {
      "text/plain": [
       "7910    perfect  match   instagood   applewatch   red ...\n",
       "7911    i  am  completely  in  love  with  the  new  i...\n",
       "7912    tune  in   turn  on   drop  out       gtd  in ...\n",
       "7913    ok  so  my  galaxy  crashed  after  one  day  ...\n",
       "7914    gain  followers  rt  this  must  follow  me  i...\n",
       "7915    live  out  loud   lol   liveoutloud   selfie  ...\n",
       "7916    we  would  like  to  wish  you  an  amazing  d...\n",
       "7917    helping  my  lovely    year  old  neighbor  wi...\n",
       "7918    finally  got  my   smart   pocket   wifi  stay...\n",
       "7919    apple  barcelona      apple   store   bcn   ba...\n",
       "Name: tweet, dtype: object"
      ]
     },
     "execution_count": 163,
     "metadata": {},
     "output_type": "execute_result"
    }
   ],
   "source": [
    "data[\"tweet\"].tail(10)"
   ]
  },
  {
   "cell_type": "markdown",
   "id": "d1140c43-dfbd-47e9-b27c-c61b7b849c61",
   "metadata": {},
   "source": [
    "Remove  Stopwords"
   ]
  },
  {
   "cell_type": "code",
   "execution_count": 95,
   "id": "03bdb6ea-84b5-42ae-9dde-84f196d2c502",
   "metadata": {},
   "outputs": [
    {
     "name": "stdout",
     "output_type": "stream",
     "text": [
      "Requirement already satisfied: nltk in c:\\users\\kavindhya\\desktop\\sentiment-analysis-project\\env\\lib\\site-packages (3.9.2)\n",
      "Requirement already satisfied: click in c:\\users\\kavindhya\\desktop\\sentiment-analysis-project\\env\\lib\\site-packages (from nltk) (8.3.0)\n",
      "Requirement already satisfied: joblib in c:\\users\\kavindhya\\desktop\\sentiment-analysis-project\\env\\lib\\site-packages (from nltk) (1.5.2)\n",
      "Requirement already satisfied: regex>=2021.8.3 in c:\\users\\kavindhya\\desktop\\sentiment-analysis-project\\env\\lib\\site-packages (from nltk) (2025.9.18)\n",
      "Requirement already satisfied: tqdm in c:\\users\\kavindhya\\desktop\\sentiment-analysis-project\\env\\lib\\site-packages (from nltk) (4.67.1)\n",
      "Requirement already satisfied: colorama in c:\\users\\kavindhya\\desktop\\sentiment-analysis-project\\env\\lib\\site-packages (from click->nltk) (0.4.6)\n",
      "Note: you may need to restart the kernel to use updated packages.\n"
     ]
    }
   ],
   "source": [
    "pip install nltk"
   ]
  },
  {
   "cell_type": "code",
   "execution_count": 164,
   "id": "1c0dc356-7678-48b0-9e9d-013c3bb720b3",
   "metadata": {},
   "outputs": [],
   "source": [
    "import nltk"
   ]
  },
  {
   "cell_type": "code",
   "execution_count": 165,
   "id": "f21c8c04-c876-429e-829a-80c858797b5c",
   "metadata": {},
   "outputs": [
    {
     "name": "stderr",
     "output_type": "stream",
     "text": [
      "[nltk_data] Downloading package stopwords to ../static/Model...\n",
      "[nltk_data]   Package stopwords is already up-to-date!\n"
     ]
    },
    {
     "data": {
      "text/plain": [
       "True"
      ]
     },
     "execution_count": 165,
     "metadata": {},
     "output_type": "execute_result"
    }
   ],
   "source": [
    "nltk.download('stopwords', download_dir = '../static/Model')"
   ]
  },
  {
   "cell_type": "code",
   "execution_count": 166,
   "id": "623b59f1-7da5-4e53-a71c-71a0d5363f3f",
   "metadata": {},
   "outputs": [],
   "source": [
    "with open('../static/Model/corpora/stopwords/english','r') as file:\n",
    "    sw= file.read().splitlines()"
   ]
  },
  {
   "cell_type": "code",
   "execution_count": 167,
   "id": "d5cd7823-f143-4fcf-9a8c-bc3687835aa3",
   "metadata": {},
   "outputs": [
    {
     "data": {
      "text/plain": [
       "['a',\n",
       " 'about',\n",
       " 'above',\n",
       " 'after',\n",
       " 'again',\n",
       " 'against',\n",
       " 'ain',\n",
       " 'all',\n",
       " 'am',\n",
       " 'an',\n",
       " 'and',\n",
       " 'any',\n",
       " 'are',\n",
       " 'aren',\n",
       " \"aren't\",\n",
       " 'as',\n",
       " 'at',\n",
       " 'be',\n",
       " 'because',\n",
       " 'been',\n",
       " 'before',\n",
       " 'being',\n",
       " 'below',\n",
       " 'between',\n",
       " 'both',\n",
       " 'but',\n",
       " 'by',\n",
       " 'can',\n",
       " 'couldn',\n",
       " \"couldn't\",\n",
       " 'd',\n",
       " 'did',\n",
       " 'didn',\n",
       " \"didn't\",\n",
       " 'do',\n",
       " 'does',\n",
       " 'doesn',\n",
       " \"doesn't\",\n",
       " 'doing',\n",
       " 'don',\n",
       " \"don't\",\n",
       " 'down',\n",
       " 'during',\n",
       " 'each',\n",
       " 'few',\n",
       " 'for',\n",
       " 'from',\n",
       " 'further',\n",
       " 'had',\n",
       " 'hadn',\n",
       " \"hadn't\",\n",
       " 'has',\n",
       " 'hasn',\n",
       " \"hasn't\",\n",
       " 'have',\n",
       " 'haven',\n",
       " \"haven't\",\n",
       " 'having',\n",
       " 'he',\n",
       " \"he'd\",\n",
       " \"he'll\",\n",
       " 'her',\n",
       " 'here',\n",
       " 'hers',\n",
       " 'herself',\n",
       " \"he's\",\n",
       " 'him',\n",
       " 'himself',\n",
       " 'his',\n",
       " 'how',\n",
       " 'i',\n",
       " \"i'd\",\n",
       " 'if',\n",
       " \"i'll\",\n",
       " \"i'm\",\n",
       " 'in',\n",
       " 'into',\n",
       " 'is',\n",
       " 'isn',\n",
       " \"isn't\",\n",
       " 'it',\n",
       " \"it'd\",\n",
       " \"it'll\",\n",
       " \"it's\",\n",
       " 'its',\n",
       " 'itself',\n",
       " \"i've\",\n",
       " 'just',\n",
       " 'll',\n",
       " 'm',\n",
       " 'ma',\n",
       " 'me',\n",
       " 'mightn',\n",
       " \"mightn't\",\n",
       " 'more',\n",
       " 'most',\n",
       " 'mustn',\n",
       " \"mustn't\",\n",
       " 'my',\n",
       " 'myself',\n",
       " 'needn',\n",
       " \"needn't\",\n",
       " 'no',\n",
       " 'nor',\n",
       " 'not',\n",
       " 'now',\n",
       " 'o',\n",
       " 'of',\n",
       " 'off',\n",
       " 'on',\n",
       " 'once',\n",
       " 'only',\n",
       " 'or',\n",
       " 'other',\n",
       " 'our',\n",
       " 'ours',\n",
       " 'ourselves',\n",
       " 'out',\n",
       " 'over',\n",
       " 'own',\n",
       " 're',\n",
       " 's',\n",
       " 'same',\n",
       " 'shan',\n",
       " \"shan't\",\n",
       " 'she',\n",
       " \"she'd\",\n",
       " \"she'll\",\n",
       " \"she's\",\n",
       " 'should',\n",
       " 'shouldn',\n",
       " \"shouldn't\",\n",
       " \"should've\",\n",
       " 'so',\n",
       " 'some',\n",
       " 'such',\n",
       " 't',\n",
       " 'than',\n",
       " 'that',\n",
       " \"that'll\",\n",
       " 'the',\n",
       " 'their',\n",
       " 'theirs',\n",
       " 'them',\n",
       " 'themselves',\n",
       " 'then',\n",
       " 'there',\n",
       " 'these',\n",
       " 'they',\n",
       " \"they'd\",\n",
       " \"they'll\",\n",
       " \"they're\",\n",
       " \"they've\",\n",
       " 'this',\n",
       " 'those',\n",
       " 'through',\n",
       " 'to',\n",
       " 'too',\n",
       " 'under',\n",
       " 'until',\n",
       " 'up',\n",
       " 've',\n",
       " 'very',\n",
       " 'was',\n",
       " 'wasn',\n",
       " \"wasn't\",\n",
       " 'we',\n",
       " \"we'd\",\n",
       " \"we'll\",\n",
       " \"we're\",\n",
       " 'were',\n",
       " 'weren',\n",
       " \"weren't\",\n",
       " \"we've\",\n",
       " 'what',\n",
       " 'when',\n",
       " 'where',\n",
       " 'which',\n",
       " 'while',\n",
       " 'who',\n",
       " 'whom',\n",
       " 'why',\n",
       " 'will',\n",
       " 'with',\n",
       " 'won',\n",
       " \"won't\",\n",
       " 'wouldn',\n",
       " \"wouldn't\",\n",
       " 'y',\n",
       " 'you',\n",
       " \"you'd\",\n",
       " \"you'll\",\n",
       " 'your',\n",
       " \"you're\",\n",
       " 'yours',\n",
       " 'yourself',\n",
       " 'yourselves',\n",
       " \"you've\"]"
      ]
     },
     "execution_count": 167,
     "metadata": {},
     "output_type": "execute_result"
    }
   ],
   "source": [
    "sw"
   ]
  },
  {
   "cell_type": "code",
   "execution_count": 168,
   "id": "cb465fe1-8eac-4868-a0f6-50358c411922",
   "metadata": {},
   "outputs": [],
   "source": [
    "  data[\"tweet\"] = data[\"tweet\"].apply(lambda x: \" \".join(x for x in x.split() if x not in sw))"
   ]
  },
  {
   "cell_type": "code",
   "execution_count": 169,
   "id": "0ab186c0-bea1-4e43-bb87-2bc7c7c21ce3",
   "metadata": {},
   "outputs": [
    {
     "data": {
      "text/plain": [
       "0    fingerprint pregnancy test android apps beauti...\n",
       "1    finally transparant silicon case thanks uncle ...\n",
       "2    love would go talk makememories unplug relax i...\n",
       "3    wired know george made way iphone cute daventr...\n",
       "4    amazing service apple even talk question unles...\n",
       "5    iphone software update fucked phone big time s...\n",
       "6    happy us instapic instadaily us sony xperia xp...\n",
       "7    new type c charger cable uk … bay amazon etsy ...\n",
       "8    bout go shopping listening music iphone justme...\n",
       "9    photo fun selfie pool water sony camera picoft...\n",
       "Name: tweet, dtype: object"
      ]
     },
     "execution_count": 169,
     "metadata": {},
     "output_type": "execute_result"
    }
   ],
   "source": [
    "data[\"tweet\"].head(10)"
   ]
  },
  {
   "cell_type": "markdown",
   "id": "737a522e-8641-47b5-811f-19fd425a0e41",
   "metadata": {},
   "source": [
    "Stemming"
   ]
  },
  {
   "cell_type": "code",
   "execution_count": 170,
   "id": "16461665-b834-4c46-ab54-c5d35ce0a2b3",
   "metadata": {},
   "outputs": [],
   "source": [
    "from nltk.stem import PorterStemmer\n",
    "ps = PorterStemmer()"
   ]
  },
  {
   "cell_type": "code",
   "execution_count": 171,
   "id": "1b43beb7-f9a4-4592-a61d-a4d9b5a28791",
   "metadata": {},
   "outputs": [],
   "source": [
    "data[\"tweet\"] = data[\"tweet\"].apply(lambda x: \" \".join(ps.stem(x) for x in x.split()))\n"
   ]
  },
  {
   "cell_type": "code",
   "execution_count": 172,
   "id": "3ef37c00-ed42-438a-bc8b-9045ff59c9fa",
   "metadata": {},
   "outputs": [
    {
     "data": {
      "text/plain": [
       "0    fingerprint pregnanc test android app beauti c...\n",
       "1    final transpar silicon case thank uncl yay son...\n",
       "2    love would go talk makememori unplug relax iph...\n",
       "3    wire know georg made way iphon cute daventri home\n",
       "4    amaz servic appl even talk question unless pay...\n",
       "Name: tweet, dtype: object"
      ]
     },
     "execution_count": 172,
     "metadata": {},
     "output_type": "execute_result"
    }
   ],
   "source": [
    "data[\"tweet\"].head(5)"
   ]
  },
  {
   "cell_type": "code",
   "execution_count": 173,
   "id": "465176e9-0ac2-47ed-be54-6470338caa2e",
   "metadata": {},
   "outputs": [
    {
     "data": {
      "text/html": [
       "<div>\n",
       "<style scoped>\n",
       "    .dataframe tbody tr th:only-of-type {\n",
       "        vertical-align: middle;\n",
       "    }\n",
       "\n",
       "    .dataframe tbody tr th {\n",
       "        vertical-align: top;\n",
       "    }\n",
       "\n",
       "    .dataframe thead th {\n",
       "        text-align: right;\n",
       "    }\n",
       "</style>\n",
       "<table border=\"1\" class=\"dataframe\">\n",
       "  <thead>\n",
       "    <tr style=\"text-align: right;\">\n",
       "      <th></th>\n",
       "      <th>id</th>\n",
       "      <th>label</th>\n",
       "      <th>tweet</th>\n",
       "    </tr>\n",
       "  </thead>\n",
       "  <tbody>\n",
       "    <tr>\n",
       "      <th>0</th>\n",
       "      <td>1</td>\n",
       "      <td>0</td>\n",
       "      <td>fingerprint pregnanc test android app beauti c...</td>\n",
       "    </tr>\n",
       "    <tr>\n",
       "      <th>1</th>\n",
       "      <td>2</td>\n",
       "      <td>0</td>\n",
       "      <td>final transpar silicon case thank uncl yay son...</td>\n",
       "    </tr>\n",
       "    <tr>\n",
       "      <th>2</th>\n",
       "      <td>3</td>\n",
       "      <td>0</td>\n",
       "      <td>love would go talk makememori unplug relax iph...</td>\n",
       "    </tr>\n",
       "    <tr>\n",
       "      <th>3</th>\n",
       "      <td>4</td>\n",
       "      <td>0</td>\n",
       "      <td>wire know georg made way iphon cute daventri home</td>\n",
       "    </tr>\n",
       "    <tr>\n",
       "      <th>4</th>\n",
       "      <td>5</td>\n",
       "      <td>1</td>\n",
       "      <td>amaz servic appl even talk question unless pay...</td>\n",
       "    </tr>\n",
       "    <tr>\n",
       "      <th>...</th>\n",
       "      <td>...</td>\n",
       "      <td>...</td>\n",
       "      <td>...</td>\n",
       "    </tr>\n",
       "    <tr>\n",
       "      <th>7915</th>\n",
       "      <td>7916</td>\n",
       "      <td>0</td>\n",
       "      <td>live loud lol liveoutloud selfi smile soni mus...</td>\n",
       "    </tr>\n",
       "    <tr>\n",
       "      <th>7916</th>\n",
       "      <td>7917</td>\n",
       "      <td>0</td>\n",
       "      <td>would like wish amaz day make everi minut coun...</td>\n",
       "    </tr>\n",
       "    <tr>\n",
       "      <th>7917</th>\n",
       "      <td>7918</td>\n",
       "      <td>0</td>\n",
       "      <td>help love year old neighbor ipad morn made rea...</td>\n",
       "    </tr>\n",
       "    <tr>\n",
       "      <th>7918</th>\n",
       "      <td>7919</td>\n",
       "      <td>0</td>\n",
       "      <td>final got smart pocket wifi stay connect anyti...</td>\n",
       "    </tr>\n",
       "    <tr>\n",
       "      <th>7919</th>\n",
       "      <td>7920</td>\n",
       "      <td>0</td>\n",
       "      <td>appl barcelona appl store bcn barcelona travel...</td>\n",
       "    </tr>\n",
       "  </tbody>\n",
       "</table>\n",
       "<p>7920 rows × 3 columns</p>\n",
       "</div>"
      ],
      "text/plain": [
       "        id  label                                              tweet\n",
       "0        1      0  fingerprint pregnanc test android app beauti c...\n",
       "1        2      0  final transpar silicon case thank uncl yay son...\n",
       "2        3      0  love would go talk makememori unplug relax iph...\n",
       "3        4      0  wire know georg made way iphon cute daventri home\n",
       "4        5      1  amaz servic appl even talk question unless pay...\n",
       "...    ...    ...                                                ...\n",
       "7915  7916      0  live loud lol liveoutloud selfi smile soni mus...\n",
       "7916  7917      0  would like wish amaz day make everi minut coun...\n",
       "7917  7918      0  help love year old neighbor ipad morn made rea...\n",
       "7918  7919      0  final got smart pocket wifi stay connect anyti...\n",
       "7919  7920      0  appl barcelona appl store bcn barcelona travel...\n",
       "\n",
       "[7920 rows x 3 columns]"
      ]
     },
     "execution_count": 173,
     "metadata": {},
     "output_type": "execute_result"
    }
   ],
   "source": [
    "data"
   ]
  },
  {
   "cell_type": "markdown",
   "id": "0bf9313c-832e-4f6a-960d-3dc82bfb75b5",
   "metadata": {},
   "source": [
    "### Building Vacabulary"
   ]
  },
  {
   "cell_type": "code",
   "execution_count": 174,
   "id": "da3b4fd2-4453-4276-8ede-3f6cf73f39b7",
   "metadata": {},
   "outputs": [],
   "source": [
    "from collections import Counter\n",
    "vocab = Counter()"
   ]
  },
  {
   "cell_type": "code",
   "execution_count": 175,
   "id": "ce7bc78d-92fc-44f6-bb9f-c8d53b3aba7b",
   "metadata": {},
   "outputs": [
    {
     "data": {
      "text/plain": [
       "Counter()"
      ]
     },
     "execution_count": 175,
     "metadata": {},
     "output_type": "execute_result"
    }
   ],
   "source": [
    "vocab"
   ]
  },
  {
   "cell_type": "code",
   "execution_count": 176,
   "id": "71cb1423-d052-4f40-a7fe-49c87382e916",
   "metadata": {},
   "outputs": [],
   "source": [
    "for sentence in data['tweet']:\n",
    "    vocab.update(sentence.split())"
   ]
  },
  {
   "cell_type": "code",
   "execution_count": 177,
   "id": "898407eb-04bb-4264-ac36-3351257b4f89",
   "metadata": {},
   "outputs": [
    {
     "data": {
      "text/plain": [
       "15861"
      ]
     },
     "execution_count": 177,
     "metadata": {},
     "output_type": "execute_result"
    }
   ],
   "source": [
    "len(vocab)"
   ]
  },
  {
   "cell_type": "code",
   "execution_count": 178,
   "id": "4877ae0b-ce6d-4459-a223-70489e9a81ba",
   "metadata": {},
   "outputs": [
    {
     "data": {
      "text/plain": [
       "(7920, 3)"
      ]
     },
     "execution_count": 178,
     "metadata": {},
     "output_type": "execute_result"
    }
   ],
   "source": [
    "data.shape"
   ]
  },
  {
   "cell_type": "code",
   "execution_count": 179,
   "id": "af171a06-6472-428d-8c91-a22f6db0c151",
   "metadata": {},
   "outputs": [],
   "source": [
    "token = [key for key in vocab if vocab[key]>10 ]"
   ]
  },
  {
   "cell_type": "code",
   "execution_count": 180,
   "id": "06e02aeb-3d50-4873-b6a5-57a9d6532b1f",
   "metadata": {},
   "outputs": [
    {
     "data": {
      "text/plain": [
       "1166"
      ]
     },
     "execution_count": 180,
     "metadata": {},
     "output_type": "execute_result"
    }
   ],
   "source": [
    "len(token)"
   ]
  },
  {
   "cell_type": "code",
   "execution_count": 181,
   "id": "8e6100ee-5212-4d6d-a132-3e82f93d10f8",
   "metadata": {},
   "outputs": [
    {
     "data": {
      "text/plain": [
       "['test',\n",
       " 'android',\n",
       " 'app',\n",
       " 'beauti',\n",
       " 'cute',\n",
       " 'health',\n",
       " 'iger',\n",
       " 'iphoneonli',\n",
       " 'iphonesia',\n",
       " 'iphon',\n",
       " 'final',\n",
       " 'case',\n",
       " 'thank',\n",
       " 'yay',\n",
       " 'soni',\n",
       " 'xperia',\n",
       " 'love',\n",
       " 'would',\n",
       " 'go',\n",
       " 'talk',\n",
       " 'relax',\n",
       " 'smartphon',\n",
       " 'wifi',\n",
       " 'connect',\n",
       " 'know',\n",
       " 'made',\n",
       " 'way',\n",
       " 'home',\n",
       " 'amaz',\n",
       " 'servic',\n",
       " 'appl',\n",
       " 'even',\n",
       " 'question',\n",
       " 'pay',\n",
       " 'stupid',\n",
       " 'support',\n",
       " 'softwar',\n",
       " 'updat',\n",
       " 'fuck',\n",
       " 'phone',\n",
       " 'big',\n",
       " 'time',\n",
       " 'happi',\n",
       " 'us',\n",
       " 'instap',\n",
       " 'instadaili',\n",
       " 'xperiaz',\n",
       " 'new',\n",
       " 'type',\n",
       " 'c',\n",
       " 'charger',\n",
       " 'cabl',\n",
       " 'uk',\n",
       " '…',\n",
       " 'amazon',\n",
       " 'year',\n",
       " 'newyear',\n",
       " 'start',\n",
       " 'technolog',\n",
       " 'samsunggalaxi',\n",
       " 'iphonex',\n",
       " 'pic',\n",
       " 'twitter',\n",
       " 'com',\n",
       " 'shop',\n",
       " 'listen',\n",
       " 'music',\n",
       " 'likeforlik',\n",
       " 'photo',\n",
       " 'fun',\n",
       " 'selfi',\n",
       " 'water',\n",
       " 'camera',\n",
       " 'picoftheday',\n",
       " 'sun',\n",
       " 'instagood',\n",
       " 'boy',\n",
       " 'outdoor',\n",
       " 'hey',\n",
       " 'make',\n",
       " 'ipod',\n",
       " 'dont',\n",
       " 'color',\n",
       " 'inch',\n",
       " 'crash',\n",
       " 'everi',\n",
       " 'need',\n",
       " 'realli',\n",
       " 'drop',\n",
       " 'ball',\n",
       " 'design',\n",
       " 'give',\n",
       " 'anoth',\n",
       " 'crazi',\n",
       " 'purchas',\n",
       " 'lol',\n",
       " 'work',\n",
       " 'hard',\n",
       " 'play',\n",
       " 'ipad',\n",
       " 'batteri',\n",
       " 'charg',\n",
       " 'dead',\n",
       " 'saturday',\n",
       " 'summer',\n",
       " 'like',\n",
       " 'share',\n",
       " 'want',\n",
       " '…pic',\n",
       " 'instagram',\n",
       " 'photooftheday',\n",
       " 'tweegram',\n",
       " 'reason',\n",
       " 'one',\n",
       " 'suck',\n",
       " 'truth',\n",
       " 'agre',\n",
       " 'fact',\n",
       " 'store',\n",
       " 'screen',\n",
       " 'monday',\n",
       " 'ur',\n",
       " 'art',\n",
       " 'easter',\n",
       " 'dear',\n",
       " 'friend',\n",
       " 'face',\n",
       " 'email',\n",
       " 'seem',\n",
       " 'pie',\n",
       " 'wife',\n",
       " 'day',\n",
       " 'button',\n",
       " 'back',\n",
       " 'broke',\n",
       " 'hit',\n",
       " 'goe',\n",
       " 'complet',\n",
       " 'black',\n",
       " 'keep',\n",
       " 'get',\n",
       " 'text',\n",
       " 'check',\n",
       " 'wallpap',\n",
       " 'wall',\n",
       " 'galaxi',\n",
       " 'samsung',\n",
       " 'patent',\n",
       " 'million',\n",
       " 'parti',\n",
       " 'mess',\n",
       " 'done',\n",
       " 'noth',\n",
       " 'touch',\n",
       " 'lose',\n",
       " 'kill',\n",
       " 'someon',\n",
       " 'hateappl',\n",
       " 'flower',\n",
       " 'green',\n",
       " 'must',\n",
       " 'watch',\n",
       " 'youtub',\n",
       " 'subscrib',\n",
       " 'daili',\n",
       " 'vlog',\n",
       " 'twitch',\n",
       " 'game',\n",
       " 'ps',\n",
       " 'xbox',\n",
       " 'io',\n",
       " 'live',\n",
       " 'laugh',\n",
       " 'life',\n",
       " 'food',\n",
       " 'instago',\n",
       " 'instahub',\n",
       " 'instagram…',\n",
       " 'friendship',\n",
       " 'dog',\n",
       " 'famili',\n",
       " 'goal',\n",
       " 'bestfriend',\n",
       " 'america',\n",
       " 'al',\n",
       " 'taken',\n",
       " 'sunset',\n",
       " 'sky',\n",
       " 'sister',\n",
       " 'bought',\n",
       " 'earli',\n",
       " 'b',\n",
       " 'gift',\n",
       " 'receiv',\n",
       " 'note',\n",
       " 'mani',\n",
       " 'market',\n",
       " 'delet',\n",
       " 'song',\n",
       " 'itun',\n",
       " 'freak',\n",
       " 'window',\n",
       " 'advanc',\n",
       " 'custom',\n",
       " 'stand',\n",
       " 'bad',\n",
       " 'cheap',\n",
       " 'tech',\n",
       " 'bull',\n",
       " 'smile',\n",
       " 'creat',\n",
       " 'let',\n",
       " 'sunday',\n",
       " 'alway',\n",
       " 'eye',\n",
       " 'ootd',\n",
       " 'fashion',\n",
       " 'blackandwhit',\n",
       " 'film',\n",
       " 'set',\n",
       " 'video',\n",
       " 'produc',\n",
       " 'follow',\n",
       " 'movi',\n",
       " 'act',\n",
       " 'pink',\n",
       " 'sweet',\n",
       " 'sexi',\n",
       " 'ladi',\n",
       " 'week',\n",
       " 'end',\n",
       " 'iphoneplu',\n",
       " 'moment',\n",
       " 'see',\n",
       " 'differ',\n",
       " 'photographi',\n",
       " 'natur',\n",
       " 'landscap',\n",
       " 'view',\n",
       " 'tree',\n",
       " 'travel',\n",
       " 'googl',\n",
       " 'cut',\n",
       " 'program',\n",
       " 'look',\n",
       " 'got',\n",
       " 'christma',\n",
       " 'girl',\n",
       " 'instacool',\n",
       " 'free',\n",
       " 'appstor',\n",
       " 'joy',\n",
       " 'peac',\n",
       " 'reflect',\n",
       " 'rememb',\n",
       " 'cloud',\n",
       " 'gr',\n",
       " 'iphone…',\n",
       " 'babi',\n",
       " 'pet',\n",
       " 'news',\n",
       " 'fail',\n",
       " 'funni',\n",
       " 'hate',\n",
       " 'tablet',\n",
       " 'person',\n",
       " 'use',\n",
       " 'im',\n",
       " 'fan',\n",
       " 'think',\n",
       " 'quit',\n",
       " 'product',\n",
       " 'friday',\n",
       " 'call',\n",
       " 'blackfriday',\n",
       " 'holiday',\n",
       " 'newyork',\n",
       " 'busi',\n",
       " 'money',\n",
       " 'birthday',\n",
       " 'tv',\n",
       " 'comput',\n",
       " 'school',\n",
       " 'serious',\n",
       " 'month',\n",
       " 'good',\n",
       " 'job',\n",
       " 'actual',\n",
       " '£',\n",
       " 'replac',\n",
       " 'still',\n",
       " 'rt',\n",
       " 'droid',\n",
       " 'wait',\n",
       " 'h',\n",
       " 'cool',\n",
       " 'pictur',\n",
       " 'l',\n",
       " 'run',\n",
       " 'beach',\n",
       " 'sport',\n",
       " 'bit',\n",
       " 'hashtag',\n",
       " 'yet',\n",
       " 'arriv',\n",
       " 'gain',\n",
       " 'everyon',\n",
       " 'sougofollow',\n",
       " 'ff',\n",
       " 'iphoneographi',\n",
       " 'iphonephotographi',\n",
       " 'mobil',\n",
       " 'bright',\n",
       " 'user',\n",
       " 'date',\n",
       " 'less',\n",
       " 'random',\n",
       " 'instamood',\n",
       " 'wine',\n",
       " 'creativ',\n",
       " 'hot',\n",
       " 'icon',\n",
       " 'origin',\n",
       " 'pop',\n",
       " 'red',\n",
       " 'rock',\n",
       " 'soul',\n",
       " 'singer',\n",
       " 'univers',\n",
       " 'wed',\n",
       " 'thought',\n",
       " 'lost',\n",
       " 'ipadmini',\n",
       " 'feel',\n",
       " 'broken',\n",
       " 'light',\n",
       " 'pleas',\n",
       " 'indonesia',\n",
       " 'gold',\n",
       " 'potd',\n",
       " 'reset',\n",
       " 'sorri',\n",
       " 'white',\n",
       " 'tea',\n",
       " 'chill',\n",
       " 'cover',\n",
       " 'g',\n",
       " 'came',\n",
       " 'magic',\n",
       " 'come',\n",
       " 'followsunday',\n",
       " 'followback',\n",
       " 'teamfollowback',\n",
       " 'retweet',\n",
       " 'ya',\n",
       " 'thing',\n",
       " 'i’m',\n",
       " 'it’',\n",
       " 'alreadi',\n",
       " 'problem',\n",
       " 'issu',\n",
       " 'abl',\n",
       " 'sonya',\n",
       " 'shoot',\n",
       " 'put',\n",
       " 'price',\n",
       " 'devic',\n",
       " 'win',\n",
       " 'box',\n",
       " 'memori',\n",
       " 'brother',\n",
       " '–',\n",
       " 'oh',\n",
       " 'lip',\n",
       " 'enjoy',\n",
       " 'playstat',\n",
       " 'gamer',\n",
       " 'someth',\n",
       " 'wrong',\n",
       " 'right',\n",
       " 'today',\n",
       " 'earphon',\n",
       " 'lifestyl',\n",
       " 'fuckyou',\n",
       " 'never',\n",
       " 'bug',\n",
       " 'littl',\n",
       " 'qualiti',\n",
       " 'girlfriend',\n",
       " 'card',\n",
       " 'z',\n",
       " 'present',\n",
       " 'mom',\n",
       " 'macbookpro',\n",
       " 'macbook',\n",
       " 'quot',\n",
       " 'word',\n",
       " 'tweetgram',\n",
       " 'great',\n",
       " 'repair',\n",
       " 'hour',\n",
       " 'everyth',\n",
       " 'mode',\n",
       " 'usa',\n",
       " 'compani',\n",
       " 'model',\n",
       " 'cd',\n",
       " 'featur',\n",
       " 'coffe',\n",
       " 'effect',\n",
       " 'spring',\n",
       " 'galaxynot',\n",
       " 'special',\n",
       " 'valentin',\n",
       " 'nowplay',\n",
       " 'daughter',\n",
       " 'poem',\n",
       " 'car',\n",
       " 'sign',\n",
       " 'lunch',\n",
       " 'park',\n",
       " 'banana',\n",
       " 'autumn',\n",
       " 'spend',\n",
       " 'much',\n",
       " 'p',\n",
       " 'book',\n",
       " 'say',\n",
       " 'u',\n",
       " 'took',\n",
       " 'download',\n",
       " 'ad',\n",
       " 'ny',\n",
       " 'educ',\n",
       " 'n',\n",
       " 'miss',\n",
       " 'last',\n",
       " 'min',\n",
       " 'tmobil',\n",
       " 'rid',\n",
       " 'absolut',\n",
       " 'annoy',\n",
       " 'level',\n",
       " 'buy',\n",
       " 'full',\n",
       " 'version',\n",
       " 'import',\n",
       " 'mood',\n",
       " 'blog',\n",
       " 'style',\n",
       " 'bestoftheday',\n",
       " 'pretti',\n",
       " 'babe',\n",
       " 'send',\n",
       " 'turn',\n",
       " 'imessag',\n",
       " 'sleep',\n",
       " 'popular',\n",
       " 'tweet',\n",
       " 'shotoniphon',\n",
       " 'photograph',\n",
       " 'silli',\n",
       " 'sync',\n",
       " 'second',\n",
       " 'fml',\n",
       " 'candi',\n",
       " 'nice',\n",
       " 'hand',\n",
       " 'gb',\n",
       " 'first',\n",
       " 'bar',\n",
       " 'key',\n",
       " 'long',\n",
       " 'cold',\n",
       " 'boot',\n",
       " 'siri',\n",
       " 'doesnt',\n",
       " 'shot',\n",
       " 'liter',\n",
       " 'cri',\n",
       " 'contact',\n",
       " 'wonder',\n",
       " 'avail',\n",
       " 'laptop',\n",
       " 'vaio',\n",
       " 'blackberri',\n",
       " 'best',\n",
       " 'fruit',\n",
       " 'fall',\n",
       " 'soon',\n",
       " 'yum',\n",
       " 'mac',\n",
       " 'well',\n",
       " 'display',\n",
       " 'told',\n",
       " 'stop',\n",
       " 'three',\n",
       " 'ship',\n",
       " 'gear',\n",
       " 'past',\n",
       " 'singl',\n",
       " 'capetownsup',\n",
       " 'sup',\n",
       " 'surf',\n",
       " 'capetown',\n",
       " 'pro',\n",
       " 'half',\n",
       " 'stuff',\n",
       " 'excit',\n",
       " 'open',\n",
       " 'mine',\n",
       " 'piss',\n",
       " 'offici',\n",
       " 'keyboard',\n",
       " 'okay',\n",
       " 'though',\n",
       " 'enough',\n",
       " 'simpl',\n",
       " 'instal',\n",
       " 'th',\n",
       " 'refus',\n",
       " 'night',\n",
       " 'son',\n",
       " 'instagood…',\n",
       " 'bday',\n",
       " 'jj',\n",
       " 'makeup',\n",
       " 'valentinesday',\n",
       " 'februari',\n",
       " 'portrait',\n",
       " 'sonyalpha',\n",
       " 'mm',\n",
       " 'password',\n",
       " 'zoom',\n",
       " 'stevejob',\n",
       " 'addict',\n",
       " 'prophet',\n",
       " 'husband',\n",
       " 'kindl',\n",
       " 'a…',\n",
       " 'upgrad',\n",
       " 'help',\n",
       " 'children',\n",
       " 'least',\n",
       " 'tab',\n",
       " 'real',\n",
       " 'visit',\n",
       " 'hi',\n",
       " 'world',\n",
       " 'old',\n",
       " 'followm',\n",
       " 'likelik',\n",
       " 'samsung…',\n",
       " 'swag',\n",
       " 'cat',\n",
       " 'edit',\n",
       " 'sick',\n",
       " 'paint',\n",
       " 'bullshit',\n",
       " 'may',\n",
       " 'perfect',\n",
       " 'instaphoto',\n",
       " 'welcom',\n",
       " 'draw',\n",
       " 'os',\n",
       " 'throw',\n",
       " 'fast',\n",
       " 'w',\n",
       " 'take',\n",
       " 'two',\n",
       " 'next',\n",
       " 'offer',\n",
       " 'middl',\n",
       " 'access',\n",
       " 'account',\n",
       " 'find',\n",
       " 'citi',\n",
       " 'stori',\n",
       " 'destini',\n",
       " 'awesom',\n",
       " 'accessori',\n",
       " 'bag',\n",
       " 'info',\n",
       " 'friendli',\n",
       " 'goodnight',\n",
       " 'dream',\n",
       " 'hope',\n",
       " 'uae',\n",
       " 'lucki',\n",
       " 'deal',\n",
       " 'passion',\n",
       " 'read',\n",
       " 'edm',\n",
       " 'whole',\n",
       " 'playlist',\n",
       " 'god',\n",
       " 'nx',\n",
       " 'cuti',\n",
       " 'high',\n",
       " 'usb',\n",
       " 'geek',\n",
       " 'bot',\n",
       " 'gadget',\n",
       " 'power',\n",
       " 'pc',\n",
       " 'sprint',\n",
       " 'pick',\n",
       " 'wish',\n",
       " 'minut',\n",
       " 'count',\n",
       " 'tl',\n",
       " 'drive',\n",
       " 'nyc',\n",
       " 'gay',\n",
       " 'readi',\n",
       " 'cellphon',\n",
       " 'space',\n",
       " 'tattoo',\n",
       " 'id',\n",
       " 'total',\n",
       " 'ye',\n",
       " 'via',\n",
       " 'air',\n",
       " 'fit',\n",
       " 'plu',\n",
       " 'dual',\n",
       " 'sim',\n",
       " 'florida',\n",
       " 'sale',\n",
       " 'nokia',\n",
       " 'motorola',\n",
       " 'lg',\n",
       " 'without',\n",
       " 'hold',\n",
       " 'speed',\n",
       " 'unitedst',\n",
       " 'guitarplay',\n",
       " 'smart',\n",
       " 'crap',\n",
       " 'calendar',\n",
       " 'event',\n",
       " 'cant',\n",
       " 'icloud',\n",
       " 'angri',\n",
       " 'bird',\n",
       " 'freez',\n",
       " 'ever',\n",
       " 'sinc',\n",
       " 'team',\n",
       " 'tri',\n",
       " 'convers',\n",
       " 'small',\n",
       " 'blue',\n",
       " '—',\n",
       " 'steemit',\n",
       " 'sonylen',\n",
       " 'len',\n",
       " 'sonyphotographi',\n",
       " 'imag',\n",
       " 'photofe',\n",
       " 'feed',\n",
       " 'yeah',\n",
       " 'gorgeou',\n",
       " 'ig',\n",
       " 'orang',\n",
       " 'haha',\n",
       " 'dress',\n",
       " 'lock',\n",
       " 'speaker',\n",
       " 'reallyr',\n",
       " 'colleg',\n",
       " 'true',\n",
       " 'chocol',\n",
       " 'shit',\n",
       " 'ador',\n",
       " 'nofilt',\n",
       " 'drink',\n",
       " 'purpl',\n",
       " 'tasti',\n",
       " 'garden',\n",
       " 'андроид',\n",
       " 'guy',\n",
       " 'moto',\n",
       " 'e',\n",
       " 'nd',\n",
       " 'bestpric',\n",
       " 'jun',\n",
       " 'unlock',\n",
       " 'caus',\n",
       " 'manag',\n",
       " 'mommi',\n",
       " 'bless',\n",
       " 'could',\n",
       " 'chines',\n",
       " 'close',\n",
       " 'system',\n",
       " 'morn',\n",
       " 'nike',\n",
       " 'goodmorn',\n",
       " 'r',\n",
       " 'imac',\n",
       " 'sell',\n",
       " 'mad',\n",
       " 'purpos',\n",
       " 'pari',\n",
       " 'answer',\n",
       " 'roll',\n",
       " 'verizon',\n",
       " 'headphon',\n",
       " 'show',\n",
       " 'sound',\n",
       " 'itali',\n",
       " 'socialmedia',\n",
       " 'learn',\n",
       " 'smoke',\n",
       " 'tomorrow',\n",
       " 'delici',\n",
       " 'far',\n",
       " 'away',\n",
       " 'ebay',\n",
       " 'fix',\n",
       " 'easi',\n",
       " 'silver',\n",
       " 'oneplu',\n",
       " 'de',\n",
       " 'provid',\n",
       " 'experi',\n",
       " 'flag',\n",
       " 'emoji',\n",
       " 'chang',\n",
       " 'april',\n",
       " 'man',\n",
       " 'wanna',\n",
       " 'tell',\n",
       " 'kid',\n",
       " 'backup',\n",
       " 'peopl',\n",
       " 'dad',\n",
       " 'anyon',\n",
       " 'els',\n",
       " 'block',\n",
       " 'number',\n",
       " 'possibl',\n",
       " 'frustrat',\n",
       " 'file',\n",
       " 'bro',\n",
       " 'rhyme',\n",
       " 'thx',\n",
       " 'jailbreak',\n",
       " 'sit',\n",
       " 'restor',\n",
       " 'factori',\n",
       " 'stock',\n",
       " 'mother',\n",
       " 'igdaili',\n",
       " 'marri',\n",
       " 'healthi',\n",
       " 'ugh',\n",
       " 'x',\n",
       " 'gratitud',\n",
       " 'edg',\n",
       " 'unbox',\n",
       " 'wow',\n",
       " 'sonyphoto',\n",
       " 'top',\n",
       " 'danc',\n",
       " 'phonecas',\n",
       " 'june',\n",
       " 'sad',\n",
       " 'yellow',\n",
       " 'woman',\n",
       " 'might',\n",
       " 'india',\n",
       " 'canada',\n",
       " 'europ',\n",
       " 'bear',\n",
       " 'super',\n",
       " 'care',\n",
       " 'map',\n",
       " 'applestor',\n",
       " 'hello',\n",
       " 'order',\n",
       " 'sent',\n",
       " 'plug',\n",
       " 'went',\n",
       " '“',\n",
       " 'insta',\n",
       " 'newphon',\n",
       " 'fish',\n",
       " 'london',\n",
       " 'vsco',\n",
       " 'track',\n",
       " 'catch',\n",
       " 'finger',\n",
       " 'f',\n",
       " 'king',\n",
       " 'anymor',\n",
       " 'captur',\n",
       " 'futur',\n",
       " 'cell',\n",
       " 'instalik',\n",
       " 'sony…',\n",
       " 'march',\n",
       " 'proud',\n",
       " 'hateiphon',\n",
       " 'sticker',\n",
       " 'vscocam',\n",
       " 'bring',\n",
       " 'better',\n",
       " 'kiss',\n",
       " 'heart',\n",
       " 'fresh',\n",
       " 'librari',\n",
       " 'inspir',\n",
       " 'inlov',\n",
       " 'luxuri',\n",
       " 'exquisit',\n",
       " 'squishi',\n",
       " 'charm',\n",
       " 'strap',\n",
       " 'toy',\n",
       " 'decor',\n",
       " 'giveawayp',\n",
       " 'cake',\n",
       " 'lte',\n",
       " 'facebook',\n",
       " 'wipe',\n",
       " 'human',\n",
       " 'bff',\n",
       " 'instalov',\n",
       " 'storag',\n",
       " 'wake',\n",
       " 'shitti',\n",
       " 'wast',\n",
       " 'switch',\n",
       " 'blond',\n",
       " 'load',\n",
       " 'htc',\n",
       " 'sue',\n",
       " 'teamandroid',\n",
       " 'da',\n",
       " 'ly',\n",
       " 'lion',\n",
       " 'steve',\n",
       " 'also',\n",
       " 'osx',\n",
       " 'photoshoot',\n",
       " 'coupl',\n",
       " 'favorit',\n",
       " 'forc',\n",
       " 'newtoy',\n",
       " 'nascar',\n",
       " 'tire',\n",
       " 'appar',\n",
       " 'ago',\n",
       " 'zeeland',\n",
       " 'gs',\n",
       " 'ring',\n",
       " 'ask',\n",
       " 'said',\n",
       " 'meet',\n",
       " 'electron',\n",
       " 'gener',\n",
       " 'link',\n",
       " 'code',\n",
       " 'tshirt',\n",
       " 'tbt',\n",
       " 'beat',\n",
       " 'record',\n",
       " 'screw',\n",
       " 'videogam',\n",
       " 'motiv',\n",
       " 'sunni',\n",
       " 'nikon',\n",
       " 'useless',\n",
       " 'boyfriend',\n",
       " 'weekend',\n",
       " 'cook',\n",
       " 'japan',\n",
       " 'starbuck',\n",
       " 'almost',\n",
       " 'cousin',\n",
       " 'architectur',\n",
       " 'tag',\n",
       " 'applesuck',\n",
       " 'la',\n",
       " 'everyday',\n",
       " 'bye',\n",
       " 'search',\n",
       " 'dinner',\n",
       " 'discount',\n",
       " 'cheer',\n",
       " 'bluetooth',\n",
       " 'wireless',\n",
       " 'data',\n",
       " 'spent',\n",
       " 'wont',\n",
       " 'puppi',\n",
       " 'vacat',\n",
       " 'anim',\n",
       " 'notebook',\n",
       " 'redbubbl',\n",
       " 'iphonecas',\n",
       " 'yo',\n",
       " 'left',\n",
       " 'mean',\n",
       " 'yesterday',\n",
       " 'mayb',\n",
       " 'trump',\n",
       " 'appletv',\n",
       " 'california',\n",
       " 'repost',\n",
       " 'samsungmobil',\n",
       " 'gone',\n",
       " 'social',\n",
       " 'break',\n",
       " 'trip',\n",
       " 'slow',\n",
       " 'rain',\n",
       " 'wtf',\n",
       " 'anyth',\n",
       " 'cuz',\n",
       " 'hd',\n",
       " 'microsoft',\n",
       " 'applewatch',\n",
       " 'duo',\n",
       " 'dj',\n",
       " 'save',\n",
       " 'mr',\n",
       " 'releas',\n",
       " 'gonna',\n",
       " 'entir',\n",
       " 'part',\n",
       " 'die',\n",
       " 'k',\n",
       " 'tip',\n",
       " 'gotta',\n",
       " 'eat',\n",
       " 'walk',\n",
       " 'side',\n",
       " 'explor',\n",
       " 'hous',\n",
       " 'room',\n",
       " 'guess',\n",
       " 'rs',\n",
       " 'piano',\n",
       " 'v',\n",
       " 'thankyou',\n",
       " 'happen',\n",
       " 'page',\n",
       " 'surpris',\n",
       " 'deliveri',\n",
       " 'messag',\n",
       " 'vocat',\n",
       " 'thailand',\n",
       " 'khaoko',\n",
       " 'ilc',\n",
       " 'snapspeed…',\n",
       " 'merri',\n",
       " 'q',\n",
       " 'onlin',\n",
       " 'psn',\n",
       " 'flash',\n",
       " '•',\n",
       " 'treat',\n",
       " 'tagsforlik',\n",
       " 'cost',\n",
       " 'crack',\n",
       " 'collect',\n",
       " 'stuck',\n",
       " 'planet',\n",
       " 'zazzl',\n",
       " 'men',\n",
       " 'followfollow',\n",
       " 'blow',\n",
       " 'latest',\n",
       " 'consol',\n",
       " 'blogger',\n",
       " 'protect',\n",
       " 'skin',\n",
       " 'choos',\n",
       " 'uniqu',\n",
       " 'piec',\n",
       " 'resist',\n",
       " 'lot',\n",
       " 'remov',\n",
       " 'secur',\n",
       " 'princess',\n",
       " 'mind',\n",
       " 'becom',\n",
       " 'miami',\n",
       " 'nail',\n",
       " 'rip',\n",
       " 'figur',\n",
       " 'network',\n",
       " 'bitch',\n",
       " 'tuesday',\n",
       " 'idea',\n",
       " 'fb',\n",
       " 'omg',\n",
       " ...]"
      ]
     },
     "execution_count": 181,
     "metadata": {},
     "output_type": "execute_result"
    }
   ],
   "source": [
    "token"
   ]
  },
  {
   "cell_type": "code",
   "execution_count": 182,
   "id": "ffa5cda0-fa2d-438f-9ab7-34d9cc5aa03e",
   "metadata": {},
   "outputs": [],
   "source": [
    "def save_vocabulary(lines, filename):\n",
    "    data = '\\n'.join(lines)\n",
    "    file = open(filename, 'w', encoding = \"utf-8\")\n",
    "    file.write(data)\n",
    "    file.close()\n",
    "\n",
    "save_vocabulary(token, '../static/Model/vocabulary.txt')"
   ]
  },
  {
   "cell_type": "markdown",
   "id": "8923e457-7634-48de-a711-9d64a2dae50b",
   "metadata": {},
   "source": [
    "### Divide Dataset"
   ]
  },
  {
   "cell_type": "code",
   "execution_count": 185,
   "id": "a67ab702-963d-4f45-81f9-45679882d75b",
   "metadata": {},
   "outputs": [
    {
     "data": {
      "text/html": [
       "<div>\n",
       "<style scoped>\n",
       "    .dataframe tbody tr th:only-of-type {\n",
       "        vertical-align: middle;\n",
       "    }\n",
       "\n",
       "    .dataframe tbody tr th {\n",
       "        vertical-align: top;\n",
       "    }\n",
       "\n",
       "    .dataframe thead th {\n",
       "        text-align: right;\n",
       "    }\n",
       "</style>\n",
       "<table border=\"1\" class=\"dataframe\">\n",
       "  <thead>\n",
       "    <tr style=\"text-align: right;\">\n",
       "      <th></th>\n",
       "      <th>id</th>\n",
       "      <th>label</th>\n",
       "      <th>tweet</th>\n",
       "    </tr>\n",
       "  </thead>\n",
       "  <tbody>\n",
       "    <tr>\n",
       "      <th>0</th>\n",
       "      <td>1</td>\n",
       "      <td>0</td>\n",
       "      <td>fingerprint pregnanc test android app beauti c...</td>\n",
       "    </tr>\n",
       "    <tr>\n",
       "      <th>1</th>\n",
       "      <td>2</td>\n",
       "      <td>0</td>\n",
       "      <td>final transpar silicon case thank uncl yay son...</td>\n",
       "    </tr>\n",
       "    <tr>\n",
       "      <th>2</th>\n",
       "      <td>3</td>\n",
       "      <td>0</td>\n",
       "      <td>love would go talk makememori unplug relax iph...</td>\n",
       "    </tr>\n",
       "    <tr>\n",
       "      <th>3</th>\n",
       "      <td>4</td>\n",
       "      <td>0</td>\n",
       "      <td>wire know georg made way iphon cute daventri home</td>\n",
       "    </tr>\n",
       "    <tr>\n",
       "      <th>4</th>\n",
       "      <td>5</td>\n",
       "      <td>1</td>\n",
       "      <td>amaz servic appl even talk question unless pay...</td>\n",
       "    </tr>\n",
       "    <tr>\n",
       "      <th>...</th>\n",
       "      <td>...</td>\n",
       "      <td>...</td>\n",
       "      <td>...</td>\n",
       "    </tr>\n",
       "    <tr>\n",
       "      <th>7915</th>\n",
       "      <td>7916</td>\n",
       "      <td>0</td>\n",
       "      <td>live loud lol liveoutloud selfi smile soni mus...</td>\n",
       "    </tr>\n",
       "    <tr>\n",
       "      <th>7916</th>\n",
       "      <td>7917</td>\n",
       "      <td>0</td>\n",
       "      <td>would like wish amaz day make everi minut coun...</td>\n",
       "    </tr>\n",
       "    <tr>\n",
       "      <th>7917</th>\n",
       "      <td>7918</td>\n",
       "      <td>0</td>\n",
       "      <td>help love year old neighbor ipad morn made rea...</td>\n",
       "    </tr>\n",
       "    <tr>\n",
       "      <th>7918</th>\n",
       "      <td>7919</td>\n",
       "      <td>0</td>\n",
       "      <td>final got smart pocket wifi stay connect anyti...</td>\n",
       "    </tr>\n",
       "    <tr>\n",
       "      <th>7919</th>\n",
       "      <td>7920</td>\n",
       "      <td>0</td>\n",
       "      <td>appl barcelona appl store bcn barcelona travel...</td>\n",
       "    </tr>\n",
       "  </tbody>\n",
       "</table>\n",
       "<p>7920 rows × 3 columns</p>\n",
       "</div>"
      ],
      "text/plain": [
       "        id  label                                              tweet\n",
       "0        1      0  fingerprint pregnanc test android app beauti c...\n",
       "1        2      0  final transpar silicon case thank uncl yay son...\n",
       "2        3      0  love would go talk makememori unplug relax iph...\n",
       "3        4      0  wire know georg made way iphon cute daventri home\n",
       "4        5      1  amaz servic appl even talk question unless pay...\n",
       "...    ...    ...                                                ...\n",
       "7915  7916      0  live loud lol liveoutloud selfi smile soni mus...\n",
       "7916  7917      0  would like wish amaz day make everi minut coun...\n",
       "7917  7918      0  help love year old neighbor ipad morn made rea...\n",
       "7918  7919      0  final got smart pocket wifi stay connect anyti...\n",
       "7919  7920      0  appl barcelona appl store bcn barcelona travel...\n",
       "\n",
       "[7920 rows x 3 columns]"
      ]
     },
     "execution_count": 185,
     "metadata": {},
     "output_type": "execute_result"
    }
   ],
   "source": [
    "data"
   ]
  },
  {
   "cell_type": "code",
   "execution_count": 191,
   "id": "14c6cd71-314b-47d7-94b0-07d8f7030ee4",
   "metadata": {},
   "outputs": [],
   "source": [
    "X = data['tweet']\n",
    "y = data['label']"
   ]
  },
  {
   "cell_type": "code",
   "execution_count": 192,
   "id": "25e6c89a-4602-42ef-b1e4-87be013a76aa",
   "metadata": {},
   "outputs": [
    {
     "data": {
      "text/plain": [
       "0       fingerprint pregnanc test android app beauti c...\n",
       "1       final transpar silicon case thank uncl yay son...\n",
       "2       love would go talk makememori unplug relax iph...\n",
       "3       wire know georg made way iphon cute daventri home\n",
       "4       amaz servic appl even talk question unless pay...\n",
       "                              ...                        \n",
       "7915    live loud lol liveoutloud selfi smile soni mus...\n",
       "7916    would like wish amaz day make everi minut coun...\n",
       "7917    help love year old neighbor ipad morn made rea...\n",
       "7918    final got smart pocket wifi stay connect anyti...\n",
       "7919    appl barcelona appl store bcn barcelona travel...\n",
       "Name: tweet, Length: 7920, dtype: object"
      ]
     },
     "execution_count": 192,
     "metadata": {},
     "output_type": "execute_result"
    }
   ],
   "source": [
    "X"
   ]
  },
  {
   "cell_type": "code",
   "execution_count": 194,
   "id": "1ee3758b-3a0e-49ef-8aa8-89b18ee24881",
   "metadata": {},
   "outputs": [
    {
     "name": "stdout",
     "output_type": "stream",
     "text": [
      "Collecting scikit-learn\n",
      "  Using cached scikit_learn-1.7.2-cp313-cp313-win_amd64.whl.metadata (11 kB)\n",
      "Requirement already satisfied: numpy>=1.22.0 in c:\\users\\kavindhya\\desktop\\sentiment-analysis-project\\env\\lib\\site-packages (from scikit-learn) (2.3.3)\n",
      "Collecting scipy>=1.8.0 (from scikit-learn)\n",
      "  Using cached scipy-1.16.2-cp313-cp313-win_amd64.whl.metadata (60 kB)\n",
      "Requirement already satisfied: joblib>=1.2.0 in c:\\users\\kavindhya\\desktop\\sentiment-analysis-project\\env\\lib\\site-packages (from scikit-learn) (1.5.2)\n",
      "Collecting threadpoolctl>=3.1.0 (from scikit-learn)\n",
      "  Using cached threadpoolctl-3.6.0-py3-none-any.whl.metadata (13 kB)\n",
      "Using cached scikit_learn-1.7.2-cp313-cp313-win_amd64.whl (8.7 MB)\n",
      "Using cached scipy-1.16.2-cp313-cp313-win_amd64.whl (38.5 MB)\n",
      "Using cached threadpoolctl-3.6.0-py3-none-any.whl (18 kB)\n",
      "Installing collected packages: threadpoolctl, scipy, scikit-learn\n",
      "\n",
      "   ------------- -------------------------- 1/3 [scipy]\n",
      "   ------------- -------------------------- 1/3 [scipy]\n",
      "   ------------- -------------------------- 1/3 [scipy]\n",
      "   ------------- -------------------------- 1/3 [scipy]\n",
      "   ------------- -------------------------- 1/3 [scipy]\n",
      "   ------------- -------------------------- 1/3 [scipy]\n",
      "   ------------- -------------------------- 1/3 [scipy]\n",
      "   ------------- -------------------------- 1/3 [scipy]\n",
      "   ------------- -------------------------- 1/3 [scipy]\n",
      "   ------------- -------------------------- 1/3 [scipy]\n",
      "   ------------- -------------------------- 1/3 [scipy]\n",
      "   ------------- -------------------------- 1/3 [scipy]\n",
      "   ------------- -------------------------- 1/3 [scipy]\n",
      "   ------------- -------------------------- 1/3 [scipy]\n",
      "   ------------- -------------------------- 1/3 [scipy]\n",
      "   ------------- -------------------------- 1/3 [scipy]\n",
      "   ------------- -------------------------- 1/3 [scipy]\n",
      "   ------------- -------------------------- 1/3 [scipy]\n",
      "   ------------- -------------------------- 1/3 [scipy]\n",
      "   ------------- -------------------------- 1/3 [scipy]\n",
      "   ------------- -------------------------- 1/3 [scipy]\n",
      "   ------------- -------------------------- 1/3 [scipy]\n",
      "   ------------- -------------------------- 1/3 [scipy]\n",
      "   ------------- -------------------------- 1/3 [scipy]\n",
      "   ------------- -------------------------- 1/3 [scipy]\n",
      "   ------------- -------------------------- 1/3 [scipy]\n",
      "   ------------- -------------------------- 1/3 [scipy]\n",
      "   ------------- -------------------------- 1/3 [scipy]\n",
      "   ------------- -------------------------- 1/3 [scipy]\n",
      "   ------------- -------------------------- 1/3 [scipy]\n",
      "   ------------- -------------------------- 1/3 [scipy]\n",
      "   ------------- -------------------------- 1/3 [scipy]\n",
      "   ------------- -------------------------- 1/3 [scipy]\n",
      "   ------------- -------------------------- 1/3 [scipy]\n",
      "   ------------- -------------------------- 1/3 [scipy]\n",
      "   ------------- -------------------------- 1/3 [scipy]\n",
      "   ------------- -------------------------- 1/3 [scipy]\n",
      "   ------------- -------------------------- 1/3 [scipy]\n",
      "   ------------- -------------------------- 1/3 [scipy]\n",
      "   ------------- -------------------------- 1/3 [scipy]\n",
      "   ------------- -------------------------- 1/3 [scipy]\n",
      "   ------------- -------------------------- 1/3 [scipy]\n",
      "   ------------- -------------------------- 1/3 [scipy]\n",
      "   ------------- -------------------------- 1/3 [scipy]\n",
      "   ------------- -------------------------- 1/3 [scipy]\n",
      "   ------------- -------------------------- 1/3 [scipy]\n",
      "   ------------- -------------------------- 1/3 [scipy]\n",
      "   ------------- -------------------------- 1/3 [scipy]\n",
      "   ------------- -------------------------- 1/3 [scipy]\n",
      "   ------------- -------------------------- 1/3 [scipy]\n",
      "   ------------- -------------------------- 1/3 [scipy]\n",
      "   ------------- -------------------------- 1/3 [scipy]\n",
      "   ------------- -------------------------- 1/3 [scipy]\n",
      "   ------------- -------------------------- 1/3 [scipy]\n",
      "   ------------- -------------------------- 1/3 [scipy]\n",
      "   ------------- -------------------------- 1/3 [scipy]\n",
      "   ------------- -------------------------- 1/3 [scipy]\n",
      "   ------------- -------------------------- 1/3 [scipy]\n",
      "   ------------- -------------------------- 1/3 [scipy]\n",
      "   ------------- -------------------------- 1/3 [scipy]\n",
      "   ------------- -------------------------- 1/3 [scipy]\n",
      "   ------------- -------------------------- 1/3 [scipy]\n",
      "   ------------- -------------------------- 1/3 [scipy]\n",
      "   ------------- -------------------------- 1/3 [scipy]\n",
      "   ------------- -------------------------- 1/3 [scipy]\n",
      "   ------------- -------------------------- 1/3 [scipy]\n",
      "   ------------- -------------------------- 1/3 [scipy]\n",
      "   ------------- -------------------------- 1/3 [scipy]\n",
      "   ------------- -------------------------- 1/3 [scipy]\n",
      "   ------------- -------------------------- 1/3 [scipy]\n",
      "   ------------- -------------------------- 1/3 [scipy]\n",
      "   ------------- -------------------------- 1/3 [scipy]\n",
      "   ------------- -------------------------- 1/3 [scipy]\n",
      "   ------------- -------------------------- 1/3 [scipy]\n",
      "   ------------- -------------------------- 1/3 [scipy]\n",
      "   ------------- -------------------------- 1/3 [scipy]\n",
      "   ------------- -------------------------- 1/3 [scipy]\n",
      "   ------------- -------------------------- 1/3 [scipy]\n",
      "   ------------- -------------------------- 1/3 [scipy]\n",
      "   ------------- -------------------------- 1/3 [scipy]\n",
      "   ------------- -------------------------- 1/3 [scipy]\n",
      "   ------------- -------------------------- 1/3 [scipy]\n",
      "   ------------- -------------------------- 1/3 [scipy]\n",
      "   ------------- -------------------------- 1/3 [scipy]\n",
      "   ------------- -------------------------- 1/3 [scipy]\n",
      "   ------------- -------------------------- 1/3 [scipy]\n",
      "   -------------------------- ------------- 2/3 [scikit-learn]\n",
      "   -------------------------- ------------- 2/3 [scikit-learn]\n",
      "   -------------------------- ------------- 2/3 [scikit-learn]\n",
      "   -------------------------- ------------- 2/3 [scikit-learn]\n",
      "   -------------------------- ------------- 2/3 [scikit-learn]\n",
      "   -------------------------- ------------- 2/3 [scikit-learn]\n",
      "   -------------------------- ------------- 2/3 [scikit-learn]\n",
      "   -------------------------- ------------- 2/3 [scikit-learn]\n",
      "   -------------------------- ------------- 2/3 [scikit-learn]\n",
      "   -------------------------- ------------- 2/3 [scikit-learn]\n",
      "   -------------------------- ------------- 2/3 [scikit-learn]\n",
      "   -------------------------- ------------- 2/3 [scikit-learn]\n",
      "   -------------------------- ------------- 2/3 [scikit-learn]\n",
      "   -------------------------- ------------- 2/3 [scikit-learn]\n",
      "   -------------------------- ------------- 2/3 [scikit-learn]\n",
      "   -------------------------- ------------- 2/3 [scikit-learn]\n",
      "   -------------------------- ------------- 2/3 [scikit-learn]\n",
      "   -------------------------- ------------- 2/3 [scikit-learn]\n",
      "   -------------------------- ------------- 2/3 [scikit-learn]\n",
      "   -------------------------- ------------- 2/3 [scikit-learn]\n",
      "   -------------------------- ------------- 2/3 [scikit-learn]\n",
      "   -------------------------- ------------- 2/3 [scikit-learn]\n",
      "   -------------------------- ------------- 2/3 [scikit-learn]\n",
      "   -------------------------- ------------- 2/3 [scikit-learn]\n",
      "   -------------------------- ------------- 2/3 [scikit-learn]\n",
      "   -------------------------- ------------- 2/3 [scikit-learn]\n",
      "   -------------------------- ------------- 2/3 [scikit-learn]\n",
      "   -------------------------- ------------- 2/3 [scikit-learn]\n",
      "   -------------------------- ------------- 2/3 [scikit-learn]\n",
      "   -------------------------- ------------- 2/3 [scikit-learn]\n",
      "   -------------------------- ------------- 2/3 [scikit-learn]\n",
      "   -------------------------- ------------- 2/3 [scikit-learn]\n",
      "   -------------------------- ------------- 2/3 [scikit-learn]\n",
      "   -------------------------- ------------- 2/3 [scikit-learn]\n",
      "   -------------------------- ------------- 2/3 [scikit-learn]\n",
      "   -------------------------- ------------- 2/3 [scikit-learn]\n",
      "   -------------------------- ------------- 2/3 [scikit-learn]\n",
      "   -------------------------- ------------- 2/3 [scikit-learn]\n",
      "   -------------------------- ------------- 2/3 [scikit-learn]\n",
      "   -------------------------- ------------- 2/3 [scikit-learn]\n",
      "   -------------------------- ------------- 2/3 [scikit-learn]\n",
      "   -------------------------- ------------- 2/3 [scikit-learn]\n",
      "   -------------------------- ------------- 2/3 [scikit-learn]\n",
      "   -------------------------- ------------- 2/3 [scikit-learn]\n",
      "   -------------------------- ------------- 2/3 [scikit-learn]\n",
      "   -------------------------- ------------- 2/3 [scikit-learn]\n",
      "   -------------------------- ------------- 2/3 [scikit-learn]\n",
      "   -------------------------- ------------- 2/3 [scikit-learn]\n",
      "   -------------------------- ------------- 2/3 [scikit-learn]\n",
      "   -------------------------- ------------- 2/3 [scikit-learn]\n",
      "   -------------------------- ------------- 2/3 [scikit-learn]\n",
      "   -------------------------- ------------- 2/3 [scikit-learn]\n",
      "   -------------------------- ------------- 2/3 [scikit-learn]\n",
      "   -------------------------- ------------- 2/3 [scikit-learn]\n",
      "   -------------------------- ------------- 2/3 [scikit-learn]\n",
      "   -------------------------- ------------- 2/3 [scikit-learn]\n",
      "   -------------------------- ------------- 2/3 [scikit-learn]\n",
      "   -------------------------- ------------- 2/3 [scikit-learn]\n",
      "   -------------------------- ------------- 2/3 [scikit-learn]\n",
      "   -------------------------- ------------- 2/3 [scikit-learn]\n",
      "   -------------------------- ------------- 2/3 [scikit-learn]\n",
      "   -------------------------- ------------- 2/3 [scikit-learn]\n",
      "   -------------------------- ------------- 2/3 [scikit-learn]\n",
      "   -------------------------- ------------- 2/3 [scikit-learn]\n",
      "   -------------------------- ------------- 2/3 [scikit-learn]\n",
      "   -------------------------- ------------- 2/3 [scikit-learn]\n",
      "   -------------------------- ------------- 2/3 [scikit-learn]\n",
      "   -------------------------- ------------- 2/3 [scikit-learn]\n",
      "   -------------------------- ------------- 2/3 [scikit-learn]\n",
      "   -------------------------- ------------- 2/3 [scikit-learn]\n",
      "   -------------------------- ------------- 2/3 [scikit-learn]\n",
      "   -------------------------- ------------- 2/3 [scikit-learn]\n",
      "   -------------------------- ------------- 2/3 [scikit-learn]\n",
      "   -------------------------- ------------- 2/3 [scikit-learn]\n",
      "   -------------------------- ------------- 2/3 [scikit-learn]\n",
      "   -------------------------- ------------- 2/3 [scikit-learn]\n",
      "   -------------------------- ------------- 2/3 [scikit-learn]\n",
      "   -------------------------- ------------- 2/3 [scikit-learn]\n",
      "   -------------------------- ------------- 2/3 [scikit-learn]\n",
      "   -------------------------- ------------- 2/3 [scikit-learn]\n",
      "   -------------------------- ------------- 2/3 [scikit-learn]\n",
      "   -------------------------- ------------- 2/3 [scikit-learn]\n",
      "   -------------------------- ------------- 2/3 [scikit-learn]\n",
      "   -------------------------- ------------- 2/3 [scikit-learn]\n",
      "   -------------------------- ------------- 2/3 [scikit-learn]\n",
      "   -------------------------- ------------- 2/3 [scikit-learn]\n",
      "   ---------------------------------------- 3/3 [scikit-learn]\n",
      "\n",
      "Successfully installed scikit-learn-1.7.2 scipy-1.16.2 threadpoolctl-3.6.0\n",
      "Note: you may need to restart the kernel to use updated packages.\n"
     ]
    }
   ],
   "source": [
    "pip install scikit-learn"
   ]
  },
  {
   "cell_type": "code",
   "execution_count": 198,
   "id": "06f7253e-174a-49a7-a026-0a876daf5d00",
   "metadata": {},
   "outputs": [],
   "source": [
    "from sklearn.model_selection import train_test_split\n",
    "X_train, X_test, y_train, y_test = train_test_split(X, y, test_size= 0.2)"
   ]
  },
  {
   "cell_type": "code",
   "execution_count": 199,
   "id": "e1226169-f8c4-481a-9a03-c256881f4faf",
   "metadata": {},
   "outputs": [
    {
     "data": {
      "text/plain": [
       "(6336,)"
      ]
     },
     "execution_count": 199,
     "metadata": {},
     "output_type": "execute_result"
    }
   ],
   "source": [
    "X_train.shape"
   ]
  },
  {
   "cell_type": "code",
   "execution_count": 200,
   "id": "d4ccd3a5-cbce-48d9-a637-2bf682e5fb00",
   "metadata": {},
   "outputs": [
    {
     "data": {
      "text/plain": [
       "(1584,)"
      ]
     },
     "execution_count": 200,
     "metadata": {},
     "output_type": "execute_result"
    }
   ],
   "source": [
    "X_test.shape"
   ]
  },
  {
   "cell_type": "code",
   "execution_count": 201,
   "id": "05e0a6c2-238a-4f38-87e6-727058be3c42",
   "metadata": {},
   "outputs": [
    {
     "data": {
      "text/plain": [
       "(1584,)"
      ]
     },
     "execution_count": 201,
     "metadata": {},
     "output_type": "execute_result"
    }
   ],
   "source": [
    "y_test.shape"
   ]
  },
  {
   "cell_type": "code",
   "execution_count": 202,
   "id": "54593884-0d47-47a4-88ab-efffd6626707",
   "metadata": {},
   "outputs": [
    {
     "data": {
      "text/plain": [
       "(6336,)"
      ]
     },
     "execution_count": 202,
     "metadata": {},
     "output_type": "execute_result"
    }
   ],
   "source": [
    "y_train.shape"
   ]
  },
  {
   "cell_type": "code",
   "execution_count": 203,
   "id": "be91eeef-3262-40ac-9511-0dcb6a562f7b",
   "metadata": {},
   "outputs": [
    {
     "data": {
      "text/plain": [
       "428     0\n",
       "907     0\n",
       "1990    0\n",
       "2824    0\n",
       "3271    0\n",
       "       ..\n",
       "1368    0\n",
       "2441    0\n",
       "3273    1\n",
       "431     0\n",
       "6789    1\n",
       "Name: label, Length: 1584, dtype: int64"
      ]
     },
     "execution_count": 203,
     "metadata": {},
     "output_type": "execute_result"
    }
   ],
   "source": [
    "y_test"
   ]
  },
  {
   "cell_type": "code",
   "execution_count": 204,
   "id": "fb28bf80-6484-4a86-9526-8b7c31972d9c",
   "metadata": {},
   "outputs": [
    {
     "data": {
      "text/plain": [
       "7876    0\n",
       "2373    0\n",
       "2766    0\n",
       "3041    0\n",
       "3083    0\n",
       "       ..\n",
       "4275    0\n",
       "1787    1\n",
       "5127    0\n",
       "6742    0\n",
       "5243    1\n",
       "Name: label, Length: 6336, dtype: int64"
      ]
     },
     "execution_count": 204,
     "metadata": {},
     "output_type": "execute_result"
    }
   ],
   "source": [
    "y_train"
   ]
  },
  {
   "cell_type": "markdown",
   "id": "de713461-60cf-4d33-96da-381463c376a9",
   "metadata": {},
   "source": [
    "# Vectorization"
   ]
  },
  {
   "cell_type": "code",
   "execution_count": 245,
   "id": "d8fbaeb2-c95c-4ab3-b8a2-f1bdbf8f5e2c",
   "metadata": {},
   "outputs": [],
   "source": [
    "def vectorizer (ds, vocabulary):\n",
    "    vectorized_1st = []\n",
    "\n",
    "    for sentence in ds:\n",
    "        sentence_1st = np.zeros(len(vocabulary))\n",
    "\n",
    "        for i in range(len(vocabulary)):\n",
    "            if vocabulary[i] in sentence.split():\n",
    "                sentence_1st[i] = 1\n",
    "\n",
    "        vectorized_1st.append(sentence_1st)\n",
    "    vectorized_1st_new = np.asarray(vectorized_1st, dtype = np.float32)\n",
    "    return vectorized_1st_new\n",
    "            "
   ]
  },
  {
   "cell_type": "code",
   "execution_count": 246,
   "id": "e0294f65-8ece-4106-9b28-abc6b1eb6f56",
   "metadata": {},
   "outputs": [],
   "source": [
    "vectorized_x_train = vectorizer(X_train, token)"
   ]
  },
  {
   "cell_type": "code",
   "execution_count": 247,
   "id": "421ad6f5-03f1-43ab-9d8b-1a14d4a89ad2",
   "metadata": {},
   "outputs": [],
   "source": [
    "vectorized_x_test = vectorizer(X_test, token)"
   ]
  },
  {
   "cell_type": "code",
   "execution_count": 248,
   "id": "4b9d59f7-5a60-4acc-9a7a-2b6d6f051a1a",
   "metadata": {},
   "outputs": [
    {
     "data": {
      "text/plain": [
       "array([[0., 0., 0., ..., 0., 0., 0.],\n",
       "       [0., 0., 0., ..., 0., 0., 0.],\n",
       "       [0., 0., 0., ..., 0., 0., 0.],\n",
       "       ...,\n",
       "       [0., 0., 0., ..., 0., 0., 0.],\n",
       "       [0., 0., 0., ..., 0., 0., 0.],\n",
       "       [0., 0., 0., ..., 0., 0., 0.]], shape=(6336, 1166), dtype=float32)"
      ]
     },
     "execution_count": 248,
     "metadata": {},
     "output_type": "execute_result"
    }
   ],
   "source": [
    "vectorized_x_train"
   ]
  },
  {
   "cell_type": "code",
   "execution_count": 249,
   "id": "21e156bd-155f-426b-b5bf-35c2d6bf106d",
   "metadata": {},
   "outputs": [
    {
     "data": {
      "text/plain": [
       "array([[0., 0., 0., ..., 0., 0., 0.],\n",
       "       [0., 0., 0., ..., 0., 0., 0.],\n",
       "       [0., 0., 0., ..., 0., 0., 0.],\n",
       "       ...,\n",
       "       [0., 0., 0., ..., 0., 0., 0.],\n",
       "       [0., 0., 0., ..., 0., 0., 0.],\n",
       "       [0., 0., 0., ..., 0., 0., 0.]], shape=(1584, 1166), dtype=float32)"
      ]
     },
     "execution_count": 249,
     "metadata": {},
     "output_type": "execute_result"
    }
   ],
   "source": [
    "vectorized_x_test"
   ]
  },
  {
   "cell_type": "code",
   "execution_count": 250,
   "id": "b3917d43-e8be-482b-bdfb-47b653df4535",
   "metadata": {},
   "outputs": [
    {
     "data": {
      "text/plain": [
       "label\n",
       "0    4722\n",
       "1    1614\n",
       "Name: count, dtype: int64"
      ]
     },
     "execution_count": 250,
     "metadata": {},
     "output_type": "execute_result"
    }
   ],
   "source": [
    " y_train.value_counts()"
   ]
  },
  {
   "cell_type": "code",
   "execution_count": 251,
   "id": "d496890a-714a-4963-be6a-7ba31428b7bf",
   "metadata": {},
   "outputs": [
    {
     "data": {
      "text/plain": [
       "([<matplotlib.patches.Wedge at 0x23c8b3b8190>,\n",
       "  <matplotlib.patches.Wedge at 0x23c8b3b8410>],\n",
       " [Text(-0.7661618566142427, 0.789300962541803, 'Positive'),\n",
       "  Text(0.7661617374331045, -0.7893010782290157, 'Negative')])"
      ]
     },
     "execution_count": 251,
     "metadata": {},
     "output_type": "execute_result"
    },
    {
     "data": {
      "image/png": "[encoded data removed]",
      "text/plain": [
       "<Figure size 640x480 with 1 Axes>"
      ]
     },
     "metadata": {},
     "output_type": "display_data"
    }
   ],
   "source": [
    "plt.pie(np.array([y_train.value_counts()[0], y_train.value_counts()[1]]), labels=['Positive','Negative'])"
   ]
  },
  {
   "cell_type": "markdown",
   "id": "acc0dd5f-8833-47f1-8279-8bfe34a4f884",
   "metadata": {},
   "source": [
    "### Handle Imbalnced Dataset"
   ]
  },
  {
   "cell_type": "code",
   "execution_count": 218,
   "id": "4c7b5122-eaa8-4c32-b4c8-7a8ad1f3d7fe",
   "metadata": {},
   "outputs": [
    {
     "name": "stdout",
     "output_type": "stream",
     "text": [
      "Collecting imbalanced-learn\n",
      "  Downloading imbalanced_learn-0.14.0-py3-none-any.whl.metadata (8.8 kB)\n",
      "Requirement already satisfied: numpy<3,>=1.25.2 in c:\\users\\kavindhya\\desktop\\sentiment-analysis-project\\env\\lib\\site-packages (from imbalanced-learn) (2.3.3)\n",
      "Requirement already satisfied: scipy<2,>=1.11.4 in c:\\users\\kavindhya\\desktop\\sentiment-analysis-project\\env\\lib\\site-packages (from imbalanced-learn) (1.16.2)\n",
      "Requirement already satisfied: scikit-learn<2,>=1.4.2 in c:\\users\\kavindhya\\desktop\\sentiment-analysis-project\\env\\lib\\site-packages (from imbalanced-learn) (1.7.2)\n",
      "Requirement already satisfied: joblib<2,>=1.2.0 in c:\\users\\kavindhya\\desktop\\sentiment-analysis-project\\env\\lib\\site-packages (from imbalanced-learn) (1.5.2)\n",
      "Requirement already satisfied: threadpoolctl<4,>=2.0.0 in c:\\users\\kavindhya\\desktop\\sentiment-analysis-project\\env\\lib\\site-packages (from imbalanced-learn) (3.6.0)\n",
      "Downloading imbalanced_learn-0.14.0-py3-none-any.whl (239 kB)\n",
      "Installing collected packages: imbalanced-learn\n",
      "Successfully installed imbalanced-learn-0.14.0\n",
      "Note: you may need to restart the kernel to use updated packages.\n"
     ]
    }
   ],
   "source": [
    "pip install imbalanced-learn"
   ]
  },
  {
   "cell_type": "code",
   "execution_count": 252,
   "id": "c36a6542-8b25-42fd-b1ef-c6478f0b0cea",
   "metadata": {},
   "outputs": [
    {
     "name": "stdout",
     "output_type": "stream",
     "text": [
      "(9444, 1166) (9444,)\n"
     ]
    }
   ],
   "source": [
    "from imblearn.over_sampling import SMOTE\n",
    "smote = SMOTE()\n",
    "vectorized_x_train_smote, y_train_smote = smote.fit_resample(vectorized_x_train, y_train)\n",
    "print (vectorized_x_train_smote.shape, y_train_smote.shape)"
   ]
  },
  {
   "cell_type": "code",
   "execution_count": 253,
   "id": "1b10e105-c7c7-4118-9500-41dc58a39bed",
   "metadata": {},
   "outputs": [
    {
     "data": {
      "text/plain": [
       "label\n",
       "0    4722\n",
       "1    4722\n",
       "Name: count, dtype: int64"
      ]
     },
     "execution_count": 253,
     "metadata": {},
     "output_type": "execute_result"
    }
   ],
   "source": [
    "y_train_smote.value_counts()"
   ]
  },
  {
   "cell_type": "code",
   "execution_count": 254,
   "id": "71962905-ca5d-4816-8da9-150e3b818ec6",
   "metadata": {},
   "outputs": [
    {
     "data": {
      "text/plain": [
       "([<matplotlib.patches.Wedge at 0x23c8b3bb9d0>,\n",
       "  <matplotlib.patches.Wedge at 0x23c8b3bbc50>],\n",
       " [Text(-4.8082529002048655e-08, 1.099999999999999, 'Positive'),\n",
       "  Text(1.311736850028664e-08, -1.0999999999999999, 'Negative')])"
      ]
     },
     "execution_count": 254,
     "metadata": {},
     "output_type": "execute_result"
    },
    {
     "data": {
      "image/png": "[encoded data removed]",
      "text/plain": [
       "<Figure size 640x480 with 1 Axes>"
      ]
     },
     "metadata": {},
     "output_type": "display_data"
    }
   ],
   "source": [
    "plt.pie(np.array([y_train_smote.value_counts()[0], y_train_smote.value_counts()[1]]), labels=['Positive','Negative'])"
   ]
  },
  {
   "cell_type": "code",
   "execution_count": 255,
   "id": "d71f44e1-15a4-4a4e-a70d-75cf1a69d480",
   "metadata": {},
   "outputs": [
    {
     "data": {
      "text/plain": [
       "0       0\n",
       "1       0\n",
       "2       0\n",
       "3       0\n",
       "4       0\n",
       "       ..\n",
       "9439    1\n",
       "9440    1\n",
       "9441    1\n",
       "9442    1\n",
       "9443    1\n",
       "Name: label, Length: 9444, dtype: int64"
      ]
     },
     "execution_count": 255,
     "metadata": {},
     "output_type": "execute_result"
    }
   ],
   "source": [
    "y_train_smote"
   ]
  },
  {
   "cell_type": "code",
   "execution_count": 256,
   "id": "ff1d7a5c-43bc-4f1b-b9ae-f338defb04cc",
   "metadata": {},
   "outputs": [
    {
     "data": {
      "text/plain": [
       "array([[0., 0., 0., ..., 0., 0., 0.],\n",
       "       [0., 0., 0., ..., 0., 0., 0.],\n",
       "       [0., 0., 0., ..., 0., 0., 0.],\n",
       "       ...,\n",
       "       [0., 0., 0., ..., 0., 0., 0.],\n",
       "       [0., 0., 0., ..., 0., 0., 0.],\n",
       "       [0., 0., 0., ..., 0., 0., 0.]], shape=(1584, 1166), dtype=float32)"
      ]
     },
     "execution_count": 256,
     "metadata": {},
     "output_type": "execute_result"
    }
   ],
   "source": [
    "vectorized_x_test"
   ]
  },
  {
   "cell_type": "code",
   "execution_count": 257,
   "id": "37d7e17e-0945-4ee7-a266-b23dae7c4268",
   "metadata": {},
   "outputs": [
    {
     "data": {
      "text/plain": [
       "428     0\n",
       "907     0\n",
       "1990    0\n",
       "2824    0\n",
       "3271    0\n",
       "       ..\n",
       "1368    0\n",
       "2441    0\n",
       "3273    1\n",
       "431     0\n",
       "6789    1\n",
       "Name: label, Length: 1584, dtype: int64"
      ]
     },
     "execution_count": 257,
     "metadata": {},
     "output_type": "execute_result"
    }
   ],
   "source": [
    " y_test"
   ]
  },
  {
   "cell_type": "code",
   "execution_count": 258,
   "id": "1bf74589-c1bc-4777-9800-d4367eced2ea",
   "metadata": {},
   "outputs": [
    {
     "data": {
      "text/plain": [
       "array([[0., 0., 0., ..., 0., 0., 0.],\n",
       "       [0., 0., 0., ..., 0., 0., 0.],\n",
       "       [0., 0., 0., ..., 0., 0., 0.],\n",
       "       ...,\n",
       "       [0., 0., 0., ..., 0., 0., 0.],\n",
       "       [0., 0., 0., ..., 0., 0., 0.],\n",
       "       [0., 0., 0., ..., 0., 0., 0.]], shape=(9444, 1166), dtype=float32)"
      ]
     },
     "execution_count": 258,
     "metadata": {},
     "output_type": "execute_result"
    }
   ],
   "source": [
    "vectorized_x_train_smote"
   ]
  },
  {
   "cell_type": "markdown",
   "id": "f6d8e6f2-bac5-4995-89c7-13bbdb170d03",
   "metadata": {},
   "source": [
    "### Model Training and Evaluation"
   ]
  },
  {
   "cell_type": "code",
   "execution_count": 259,
   "id": "efa0fbe9-9db6-4c07-8d30-7369d524caff",
   "metadata": {},
   "outputs": [],
   "source": [
    "from sklearn.linear_model import LogisticRegression\n",
    "from sklearn.naive_bayes import MultinomialNB\n",
    "from sklearn.tree import DecisionTreeClassifier\n",
    "from sklearn.ensemble import RandomForestClassifier\n",
    "from sklearn.svm import SVC"
   ]
  },
  {
   "cell_type": "code",
   "execution_count": 260,
   "id": "39c8add6-47b1-4afc-af14-5720b91180ec",
   "metadata": {},
   "outputs": [],
   "source": [
    "from sklearn.metrics import accuracy_score, f1_score, precision_score, recall_score\n",
    "\n",
    "def training_scores(y_act, y_pred):\n",
    "    acc = round(accuracy_score(y_act, y_pred), 3)\n",
    "    pr = round(precision_score(y_act, y_pred),3)\n",
    "    rec = round(recall_score(y_act, y_pred), 3)\n",
    "    f1 = round(f1_score(y_act, y_pred), 3)\n",
    "    print(f'Training Score:\\n\\tAccuracy = {acc}\\n\\tPreecision = {pr}\\n\\tRecall = {rec}\\n\\tF1-Score = {f1}')\n",
    "\n",
    "def validation_scores(y_act, y_pred):\n",
    "    acc = round(accuracy_score(y_act, y_pred), 3)\n",
    "    pr = round(precision_score(y_act, y_pred),3)\n",
    "    rec = round(recall_score(y_act, y_pred), 3)\n",
    "    f1 = round(f1_score(y_act, y_pred), 3)\n",
    "    print(f'Training Score:\\n\\tAccuracy = {acc}\\n\\tPreecision = {pr}\\n\\tRecall = {rec}\\n\\tF1-Score = {f1}')\n",
    "        "
   ]
  },
  {
   "cell_type": "markdown",
   "id": "dfefffb8-c578-4a18-9b7a-cec342e3d21e",
   "metadata": {},
   "source": [
    "## Logistic Regression"
   ]
  },
  {
   "cell_type": "code",
   "execution_count": 277,
   "id": "ed4c50e7-1380-4745-9869-cf3f556b1bc5",
   "metadata": {},
   "outputs": [
    {
     "name": "stdout",
     "output_type": "stream",
     "text": [
      "Training Score:\n",
      "\tAccuracy = 0.939\n",
      "\tPreecision = 0.916\n",
      "\tRecall = 0.967\n",
      "\tF1-Score = 0.941\n",
      "Training Score:\n",
      "\tAccuracy = 0.886\n",
      "\tPreecision = 0.744\n",
      "\tRecall = 0.859\n",
      "\tF1-Score = 0.797\n"
     ]
    }
   ],
   "source": [
    "lr = LogisticRegression()\n",
    "lr.fit(vectorized_x_train_smote, y_train_smote)\n",
    "\n",
    "y_train_pred = lr.predict(vectorized_x_train_smote)\n",
    "training_scores(y_train_smote, y_train_pred)\n",
    "\n",
    "y_test_pred = lr.predict(vectorized_x_test)\n",
    "validation_scores(y_test, y_test_pred)"
   ]
  },
  {
   "cell_type": "markdown",
   "id": "1d1f2160-1b48-45e6-9b85-0db1899f587e",
   "metadata": {},
   "source": [
    "### Naive Bays"
   ]
  },
  {
   "cell_type": "code",
   "execution_count": 278,
   "id": "8bcd294d-5013-43b3-a375-0c797dcdfe9c",
   "metadata": {},
   "outputs": [
    {
     "name": "stdout",
     "output_type": "stream",
     "text": [
      "Training Score:\n",
      "\tAccuracy = 0.907\n",
      "\tPreecision = 0.872\n",
      "\tRecall = 0.954\n",
      "\tF1-Score = 0.911\n",
      "Training Score:\n",
      "\tAccuracy = 0.878\n",
      "\tPreecision = 0.702\n",
      "\tRecall = 0.92\n",
      "\tF1-Score = 0.796\n"
     ]
    }
   ],
   "source": [
    "mnb = MultinomialNB()\n",
    "mnb.fit(vectorized_x_train_smote, y_train_smote)\n",
    "\n",
    "y_train_pred = mnb.predict(vectorized_x_train_smote)\n",
    "training_scores(y_train_smote, y_train_pred)\n",
    "\n",
    "y_test_pred = mnb.predict(vectorized_x_test)\n",
    "validation_scores(y_test, y_test_pred)"
   ]
  },
  {
   "cell_type": "markdown",
   "id": "cb36cadb-268f-44ed-ae5a-99c6711cebdc",
   "metadata": {},
   "source": [
    "### Decision Tree"
   ]
  },
  {
   "cell_type": "code",
   "execution_count": 279,
   "id": "ef547e5b-63ed-4c1b-a402-d0684179cddb",
   "metadata": {},
   "outputs": [
    {
     "name": "stdout",
     "output_type": "stream",
     "text": [
      "Training Score:\n",
      "\tAccuracy = 1.0\n",
      "\tPreecision = 1.0\n",
      "\tRecall = 0.999\n",
      "\tF1-Score = 1.0\n",
      "Training Score:\n",
      "\tAccuracy = 0.831\n",
      "\tPreecision = 0.687\n",
      "\tRecall = 0.643\n",
      "\tF1-Score = 0.664\n"
     ]
    }
   ],
   "source": [
    "dt = DecisionTreeClassifier()\n",
    "dt.fit(vectorized_x_train_smote, y_train_smote)\n",
    "\n",
    "y_train_pred = dt.predict(vectorized_x_train_smote)\n",
    "training_scores(y_train_smote, y_train_pred)\n",
    "\n",
    "y_test_pred = dt.predict(vectorized_x_test)\n",
    "validation_scores(y_test, y_test_pred)"
   ]
  },
  {
   "cell_type": "markdown",
   "id": "66234163-3692-4aba-b185-ffba8edecd55",
   "metadata": {},
   "source": [
    "### Random Forest"
   ]
  },
  {
   "cell_type": "code",
   "execution_count": 280,
   "id": "9ee5d6d1-4637-40c0-a621-c9ba44fff0af",
   "metadata": {},
   "outputs": [
    {
     "name": "stdout",
     "output_type": "stream",
     "text": [
      "Training Score:\n",
      "\tAccuracy = 1.0\n",
      "\tPreecision = 1.0\n",
      "\tRecall = 0.999\n",
      "\tF1-Score = 1.0\n",
      "Training Score:\n",
      "\tAccuracy = 0.87\n",
      "\tPreecision = 0.772\n",
      "\tRecall = 0.709\n",
      "\tF1-Score = 0.739\n"
     ]
    }
   ],
   "source": [
    "rf = RandomForestClassifier()\n",
    "rf.fit(vectorized_x_train_smote, y_train_smote)\n",
    "\n",
    "y_train_pred = rf.predict(vectorized_x_train_smote)\n",
    "training_scores(y_train_smote, y_train_pred)\n",
    "\n",
    "y_test_pred = rf.predict(vectorized_x_test)\n",
    "validation_scores(y_test, y_test_pred)"
   ]
  },
  {
   "cell_type": "markdown",
   "id": "19fe1665-b457-4fec-97b6-927dbfae4653",
   "metadata": {},
   "source": [
    "### Suport Vector Machine"
   ]
  },
  {
   "cell_type": "code",
   "execution_count": 281,
   "id": "aeaebd51-a418-4d80-a4d6-f077fb42a25b",
   "metadata": {},
   "outputs": [
    {
     "name": "stdout",
     "output_type": "stream",
     "text": [
      "Training Score:\n",
      "\tAccuracy = 0.978\n",
      "\tPreecision = 0.961\n",
      "\tRecall = 0.996\n",
      "\tF1-Score = 0.978\n",
      "Training Score:\n",
      "\tAccuracy = 0.887\n",
      "\tPreecision = 0.765\n",
      "\tRecall = 0.816\n",
      "\tF1-Score = 0.79\n"
     ]
    }
   ],
   "source": [
    "svm = SVC()\n",
    "svm.fit(vectorized_x_train_smote, y_train_smote)\n",
    "\n",
    "y_train_pred = svm.predict(vectorized_x_train_smote)\n",
    "training_scores(y_train_smote, y_train_pred)\n",
    "\n",
    "y_test_pred = svm.predict(vectorized_x_test)\n",
    "validation_scores(y_test, y_test_pred)"
   ]
  },
  {
   "cell_type": "code",
   "execution_count": 283,
   "id": "d31473f9-a597-4cb6-8a24-625bb74f4943",
   "metadata": {},
   "outputs": [],
   "source": [
    "import pickle\n",
    "with open('../static/Model/model.pickle','wb') as file:\n",
    "    pickle.dump(lr, file)"
   ]
  },
  {
   "cell_type": "code",
   "execution_count": null,
   "id": "7ec71e68-4b7c-454a-b788-e14b32a7ee7c",
   "metadata": {},
   "outputs": [],
   "source": []
  }
 ],
 "metadata": {
  "kernelspec": {
   "display_name": "Python 3 (ipykernel)",
   "language": "python",
   "name": "python3"
  },
  "language_info": {
   "codemirror_mode": {
    "name": "ipython",
    "version": 3
   },
   "file_extension": ".py",
   "mimetype": "text/x-python",
   "name": "python",
   "nbconvert_exporter": "python",
   "pygments_lexer": "ipython3",
   "version": "3.13.3"
  }
 },
 "nbformat": 4,
 "nbformat_minor": 5
}
